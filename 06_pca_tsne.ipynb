{
 "cells": [
  {
   "cell_type": "code",
   "execution_count": 1,
   "id": "b6815241-3408-4a94-ac54-f9cf1f9c54e5",
   "metadata": {},
   "outputs": [],
   "source": [
    "# 06_pca_tsne (n)\n",
    "# 1. Dla danych z zadania z 05 wykonaj:\n",
    "# PCA dla n_components = [2 ,4, 6] i wyświetl wartość explained_variance_ratio_\n",
    "# utwórz wykres typu \"słupkowego\" dla wszystkich n_components_\n",
    "# oblicz n_components_, które zachowają wariancję na poziomie 95%\n",
    "# 2. Dla datasetu z projektu:\n",
    "# utwórz scatter plot, korzystając z:\n",
    "# t-SNE*\n",
    "# PCA + t-SNE (skorzystaj z Pipeline lub make_pipeline)\n",
    "# porównaj czas oraz \"jakość\" powyższych wykresów\n",
    "# 3. Zaimplementuj GridsearchCV oraz kPCA dla danych z pkt. 2:\n",
    "# znajdź najlepszy kernel oraz parametr gamma (zacznij od np.linespace(0.03, 0.05, 5))\n",
    "# wybierz dowolny klasyfikator\n",
    "\n",
    "# * Jeżeli czas utworzenia wykresu z wykorzystaniem t-SNE jest za długi,  zmniejsz dataset (wybierz losowe obserwacje)\n",
    "\n",
    "# Rozwiązanie prześlij jako printscreen (jpg, pdf).\n",
    "# Nazwa pliku (bez polskich znaków):\n",
    "\n",
    "# Nazwisko_Imie_06_niestacj.jpg"
   ]
  },
  {
   "cell_type": "code",
   "execution_count": 2,
   "id": "71d673f6-2fcc-4c33-80a5-0ca448cd7697",
   "metadata": {},
   "outputs": [],
   "source": [
    "import numpy as np\n",
    "import pandas as pd\n",
    "import matplotlib.pyplot as plt\n",
    "from sklearn.preprocessing import StandardScaler\n",
    "from sklearn.decomposition import PCA"
   ]
  },
  {
   "cell_type": "code",
   "execution_count": 3,
   "id": "82116b25-ab27-4eb8-b909-617ee783a978",
   "metadata": {},
   "outputs": [],
   "source": [
    "seed = np.random.seed(204)"
   ]
  },
  {
   "cell_type": "markdown",
   "id": "309a8dfc-98d7-44bb-bee9-4d127c283eb3",
   "metadata": {},
   "source": [
    "# 1"
   ]
  },
  {
   "cell_type": "code",
   "execution_count": 4,
   "id": "e165a638-1033-4877-99b7-8cc7e91474ba",
   "metadata": {},
   "outputs": [],
   "source": [
    "from sklearn.datasets import load_wine"
   ]
  },
  {
   "cell_type": "code",
   "execution_count": 5,
   "id": "66e26d34-f0f3-4fca-9c51-28be0e372e7a",
   "metadata": {},
   "outputs": [
    {
     "data": {
      "text/plain": [
       "['DESCR', 'data', 'feature_names', 'frame', 'target', 'target_names']"
      ]
     },
     "execution_count": 5,
     "metadata": {},
     "output_type": "execute_result"
    }
   ],
   "source": [
    "# load and return the diabetes dataset (classification).\n",
    "wine = load_wine()\n",
    "dir(wine)"
   ]
  },
  {
   "cell_type": "code",
   "execution_count": 6,
   "id": "cc752e35-951b-40dc-9ee0-9846c50f9ccb",
   "metadata": {},
   "outputs": [],
   "source": [
    "# data, target assignments\n",
    "X, y = wine.data, wine.target"
   ]
  },
  {
   "cell_type": "code",
   "execution_count": 7,
   "id": "6a4e491c-c8ad-4e1c-8720-9a12f08df13d",
   "metadata": {},
   "outputs": [],
   "source": [
    "# standar scaling\n",
    "scaler = StandardScaler().fit(X)\n",
    "X_std = scaler.transform(X)"
   ]
  },
  {
   "cell_type": "code",
   "execution_count": 8,
   "id": "8cd3d9ff-5a76-48f4-a3d6-5c5b7d58b2ea",
   "metadata": {},
   "outputs": [],
   "source": [
    "elements = [2, 4, 6]\n",
    "ele_sum = []"
   ]
  },
  {
   "cell_type": "code",
   "execution_count": 9,
   "id": "5fb5751a-4ec4-4634-9b11-8ac89b12ba00",
   "metadata": {},
   "outputs": [
    {
     "name": "stdout",
     "output_type": "stream",
     "text": [
      "[0.36198848 0.1920749 ]\n",
      "[0.36198848 0.1920749  0.11123631 0.0706903 ]\n",
      "[0.36198848 0.1920749  0.11123631 0.0706903  0.06563294 0.04935823]\n"
     ]
    }
   ],
   "source": [
    "# cumsum for every PCA with n_component\n",
    "for ele in elements:\n",
    "    pca = PCA(n_components=ele, random_state=seed)\n",
    "    pca.fit(X_std)\n",
    "    \n",
    "    expl_ratio = pca.explained_variance_ratio_\n",
    "    print(expl_ratio)\n",
    "    \n",
    "    expl_ratio_sum = sum(expl_ratio)\n",
    "    ele_sum.append(expl_ratio_sum)"
   ]
  },
  {
   "cell_type": "code",
   "execution_count": 10,
   "id": "14a186d9-9560-450a-af16-446e612b7a5f",
   "metadata": {},
   "outputs": [
    {
     "data": {
      "text/plain": [
       "<AxesSubplot:xlabel='n. of components'>"
      ]
     },
     "execution_count": 10,
     "metadata": {},
     "output_type": "execute_result"
    },
    {
     "data": {
      "image/png": "[encoded data removed]",
      "text/plain": [
       "<Figure size 432x288 with 1 Axes>"
      ]
     },
     "metadata": {
      "needs_background": "light"
     },
     "output_type": "display_data"
    }
   ],
   "source": [
    "df_to_plot = pd.DataFrame(ele_sum, index=elements, columns=[\"expl_ratio\"])\n",
    "df_to_plot.index.name = \"n. of components\"\n",
    "df_to_plot.plot(kind=\"bar\", grid=True)"
   ]
  },
  {
   "cell_type": "code",
   "execution_count": 11,
   "id": "a46eb903-01c6-4b9e-b433-c77456ed0bce",
   "metadata": {},
   "outputs": [
    {
     "data": {
      "text/plain": [
       "1"
      ]
     },
     "execution_count": 11,
     "metadata": {},
     "output_type": "execute_result"
    }
   ],
   "source": [
    "pca = PCA(n_components=0.95, random_state=seed)\n",
    "x_reduced = pca.fit_transform(X)\n",
    "\n",
    "pca.n_components_"
   ]
  },
  {
   "cell_type": "markdown",
   "id": "565d179e-602c-4e7a-9bc5-ca0805817ab8",
   "metadata": {},
   "source": [
    "# 2"
   ]
  },
  {
   "cell_type": "markdown",
   "id": "649e3b03-28fb-414f-aaa1-54090458ec22",
   "metadata": {},
   "source": [
    "https://drive.google.com/drive/folders/1kTundijeYX-E-ze4Dm5DqEVsH1o1YJf9?usp=sharinghttps://drive.google.com/drive/folders/1kTundijeYX-E-ze4Dm5DqEVsH1o1YJf9?usp=sharing"
   ]
  },
  {
   "cell_type": "code",
   "execution_count": 12,
   "id": "e22dcaba-d8e5-4ca6-a873-106080023c02",
   "metadata": {},
   "outputs": [],
   "source": [
    "import time\n",
    "from sklearn.model_selection import train_test_split\n",
    "from sklearn.pipeline import Pipeline\n",
    "from sklearn.manifold import TSNE"
   ]
  },
  {
   "cell_type": "code",
   "execution_count": 13,
   "id": "5534c057-fdc0-4dce-8a61-6f8ce7ada841",
   "metadata": {},
   "outputs": [],
   "source": [
    "train_data = pd.read_csv(\"project_data/train_data.csv\", header=None)\n",
    "test_data = pd.read_csv(\"project_data/test_data.csv\", header=None)"
   ]
  },
  {
   "cell_type": "code",
   "execution_count": 14,
   "id": "3adb1792-c035-45a6-ad88-d5026bc3c794",
   "metadata": {},
   "outputs": [
    {
     "name": "stdout",
     "output_type": "stream",
     "text": [
      "<class 'pandas.core.frame.DataFrame'>\n",
      "RangeIndex: 3750 entries, 0 to 3749\n",
      "Columns: 10000 entries, 0 to 9999\n",
      "dtypes: float64(10000)\n",
      "memory usage: 286.1 MB\n"
     ]
    }
   ],
   "source": [
    "train_data.info()"
   ]
  },
  {
   "cell_type": "code",
   "execution_count": 15,
   "id": "b22d4667-66d3-4edd-946c-403868803aee",
   "metadata": {},
   "outputs": [
    {
     "name": "stdout",
     "output_type": "stream",
     "text": [
      "<class 'pandas.core.frame.DataFrame'>\n",
      "RangeIndex: 1250 entries, 0 to 1249\n",
      "Columns: 10000 entries, 0 to 9999\n",
      "dtypes: float64(10000)\n",
      "memory usage: 95.4 MB\n"
     ]
    }
   ],
   "source": [
    "test_data.info()"
   ]
  },
  {
   "cell_type": "code",
   "execution_count": 16,
   "id": "93d35038-61d7-4f69-9ba9-43238aab2a3b",
   "metadata": {},
   "outputs": [],
   "source": [
    "# just take 0.2 of train_data\n",
    "train_data_02, train_data_08 = train_test_split(train_data, test_size=0.8, shuffle=True, random_state=seed)"
   ]
  },
  {
   "cell_type": "code",
   "execution_count": 17,
   "id": "8cfc10c0-f543-41a9-b4ee-1d2180b2133e",
   "metadata": {},
   "outputs": [],
   "source": [
    "# just take 0.2 of test_data\n",
    "test_data_02, test_data_08 = train_test_split(test_data, test_size=0.8, shuffle=True, random_state=seed)"
   ]
  },
  {
   "cell_type": "code",
   "execution_count": 18,
   "id": "ce76f4d0-dd34-4ba5-92e0-c470500a768a",
   "metadata": {},
   "outputs": [],
   "source": [
    "# standar scaling\n",
    "scaler = StandardScaler().fit(test_data_02)\n",
    "data_std = scaler.transform(test_data_02)"
   ]
  },
  {
   "cell_type": "code",
   "execution_count": 19,
   "id": "d538d6d2-afad-4e5e-b643-63f72c39a907",
   "metadata": {},
   "outputs": [
    {
     "name": "stdout",
     "output_type": "stream",
     "text": [
      "[0.00515961 0.00504119]\n",
      "[113.57388293 112.26293677]\n"
     ]
    }
   ],
   "source": [
    "# dimensionality reduction pca\n",
    "pca = PCA(n_components=2, whiten=True, random_state=seed)\n",
    "pca_data = pca.fit_transform(data_std)\n",
    "\n",
    "print(pca.explained_variance_ratio_)\n",
    "print(pca.singular_values_)"
   ]
  },
  {
   "cell_type": "code",
   "execution_count": 20,
   "id": "cf3e61a0-6cb6-4e6c-ab9e-591298b6ebbd",
   "metadata": {},
   "outputs": [
    {
     "name": "stdout",
     "output_type": "stream",
     "text": [
      "1.107997179031372\n"
     ]
    }
   ],
   "source": [
    "# dimensionality reduction tsne\n",
    "tsne = TSNE(n_components=2, random_state=seed)\n",
    "tsne_data = tsne.fit_transform(data_std)\n",
    "\n",
    "#print(tsne.embedding_)\n",
    "print(tsne.kl_divergence_)"
   ]
  },
  {
   "cell_type": "code",
   "execution_count": 21,
   "id": "9fe9d0ac-45e0-4065-9fab-8ad372d69ca7",
   "metadata": {},
   "outputs": [],
   "source": [
    "data_sets = [pca_data, tsne_data]\n",
    "data_names = [\"pca_data\", \"tsne_data\"]\n",
    "colors = [\"r\", \"g\", \"lb\"]"
   ]
  },
  {
   "cell_type": "code",
   "execution_count": 22,
   "id": "bae6bbaa-cada-498f-ac30-0b3511244bb0",
   "metadata": {},
   "outputs": [
    {
     "name": "stdout",
     "output_type": "stream",
     "text": [
      "time of 1 plot: 0.04300498962402344 seconds\n",
      "time of 1 plot: 0.024996042251586914 seconds\n"
     ]
    },
    {
     "data": {
      "image/png": "[encoded data removed]",
      "text/plain": [
       "<Figure size 576x432 with 1 Axes>"
      ]
     },
     "metadata": {
      "needs_background": "light"
     },
     "output_type": "display_data"
    },
    {
     "data": {
      "image/png": "[encoded data removed]",
      "text/plain": [
       "<Figure size 576x432 with 1 Axes>"
      ]
     },
     "metadata": {
      "needs_background": "light"
     },
     "output_type": "display_data"
    }
   ],
   "source": [
    "# plots \n",
    "for i, n, c in zip(data_sets, data_names, colors):\n",
    "    plt.figure(figsize=(8, 6))\n",
    "    start_time = time.time()\n",
    "    plt.scatter(\n",
    "        i[:, 0], i[:, 1],\n",
    "        s=75, c=c,\n",
    "        marker=\"o\", \n",
    "        alpha=0.5,\n",
    "        edgecolor=\"black\"\n",
    "    )\n",
    "    end_time = time.time()\n",
    "    plt.title(n)\n",
    "    print(f\"time of 1 plot: {end_time - start_time} seconds\")"
   ]
  },
  {
   "cell_type": "code",
   "execution_count": 23,
   "id": "92bdbbf0-6423-4502-b56e-f0b70db78e73",
   "metadata": {},
   "outputs": [],
   "source": [
    "# define pipeline\n",
    "pipe = Pipeline([\n",
    "    (\"std\", StandardScaler()),\n",
    "    (\"pca\", PCA(n_components=0.95, random_state=seed)),\n",
    "    (\"tsne\", TSNE(n_components=2, random_state=seed)),\n",
    "])"
   ]
  },
  {
   "cell_type": "code",
   "execution_count": 24,
   "id": "670798b5-47d1-4571-8434-35be5c3182a9",
   "metadata": {},
   "outputs": [],
   "source": [
    "# fit transform method\n",
    "piped = pipe.fit_transform(test_data_02)"
   ]
  },
  {
   "cell_type": "code",
   "execution_count": 25,
   "id": "e108f2d5-8058-4e46-97d1-ac4b63d00873",
   "metadata": {},
   "outputs": [
    {
     "data": {
      "image/png": "[encoded data removed]",
      "text/plain": [
       "<Figure size 576x432 with 1 Axes>"
      ]
     },
     "metadata": {
      "needs_background": "light"
     },
     "output_type": "display_data"
    }
   ],
   "source": [
    "# scatter for claster visibility\n",
    "plt.figure(figsize=(8, 6))\n",
    "plt.scatter(\n",
    "    piped[:, 0],\n",
    "    piped[:, 1],\n",
    "    s=75, c=\"b\",\n",
    "    marker=\"o\", \n",
    "    alpha=0.6,\n",
    "    edgecolor=\"black\"\n",
    "    )\n",
    "\n",
    "plt.title(data_names)\n",
    "plt.grid()\n",
    "plt.show()"
   ]
  },
  {
   "cell_type": "markdown",
   "id": "c5aa0333-a187-4f6e-b559-ca3d0f63c202",
   "metadata": {},
   "source": [
    "# 3"
   ]
  },
  {
   "cell_type": "code",
   "execution_count": 26,
   "id": "7df4eab8-4d9a-486f-b8c3-330b70867a2e",
   "metadata": {},
   "outputs": [],
   "source": [
    "train_labels = pd.read_csv(\"project_data/train_labels.csv\", header=None)"
   ]
  },
  {
   "cell_type": "code",
   "execution_count": 27,
   "id": "75d2d0f4-0ffd-4312-b5be-649bfb2a0c1d",
   "metadata": {},
   "outputs": [],
   "source": [
    "y2 = train_labels[0].values"
   ]
  },
  {
   "cell_type": "code",
   "execution_count": 28,
   "id": "aef81838-8fc6-4259-a889-1b1c6357357d",
   "metadata": {},
   "outputs": [],
   "source": [
    "X_train, X_test, y_train, y_test = train_test_split(train_data, y2, test_size=0.95, shuffle=True, random_state=seed)"
   ]
  },
  {
   "cell_type": "code",
   "execution_count": 29,
   "id": "e8d23b95-f245-4875-9674-0e311ef2addf",
   "metadata": {},
   "outputs": [],
   "source": [
    "scaler = StandardScaler().fit(X_train)\n",
    "X_train_std = scaler.transform(X_train)\n",
    "# X_test_std = scaler.transform(X_test)"
   ]
  },
  {
   "cell_type": "code",
   "execution_count": 30,
   "id": "4ed181c2-6abb-41e4-8318-f4c8277fd501",
   "metadata": {},
   "outputs": [
    {
     "data": {
      "text/plain": [
       "GridSearchCV(estimator=Pipeline(steps=[('kpca', KernelPCA()),\n",
       "                                       ('svc_model', SVC())]),\n",
       "             param_grid={'kpca__gamma': array([0.03 , 0.035, 0.04 , 0.045, 0.05 ]),\n",
       "                         'kpca__kernel': ['linear', 'poly', 'rbf'],\n",
       "                         'svc_model__C': [0.1, 1, 10, 100, 1000],\n",
       "                         'svc_model__gamma': [1, 0.1, 0.01, 0.001, 0.0001]})"
      ]
     },
     "execution_count": 30,
     "metadata": {},
     "output_type": "execute_result"
    }
   ],
   "source": [
    "from sklearn.model_selection import GridSearchCV\n",
    "from sklearn.svm import SVC\n",
    "from sklearn.decomposition import KernelPCA\n",
    "from sklearn.metrics import accuracy_score\n",
    "from sklearn.metrics import classification_report\n",
    "\n",
    "kpca = KernelPCA()\n",
    "svc_model = SVC()\n",
    "\n",
    "pipe = Pipeline(steps=[('kpca', kpca), ('svc_model', svc_model)])\n",
    "pipe.fit(X_train_std, y_train)\n",
    "\n",
    "param_dict = {\"kpca__gamma\": np.linspace(0.03, 0.05, 5),\n",
    "              \"kpca__kernel\": ['linear', 'poly', 'rbf'],\n",
    "              \"svc_model__C\": [0.1, 1, 10, 100, 1000],\n",
    "              \"svc_model__gamma\": [1, 0.1, 0.01, 0.001, 0.0001]}\n",
    "\n",
    "\n",
    "grid = GridSearchCV(pipe, param_dict, verbose=0)\n",
    "grid.fit(X_train_std, y_train)"
   ]
  },
  {
   "cell_type": "code",
   "execution_count": 31,
   "id": "2b0a019e-5c3a-4f24-a2e4-078cab95da8f",
   "metadata": {},
   "outputs": [
    {
     "data": {
      "text/plain": [
       "{'kpca__gamma': 0.03,\n",
       " 'kpca__kernel': 'linear',\n",
       " 'svc_model__C': 0.1,\n",
       " 'svc_model__gamma': 1}"
      ]
     },
     "execution_count": 31,
     "metadata": {},
     "output_type": "execute_result"
    }
   ],
   "source": [
    "grid.best_params_"
   ]
  },
  {
   "cell_type": "code",
   "execution_count": 32,
   "id": "16a35d1a-7240-417a-bc41-3f800fa80fcc",
   "metadata": {},
   "outputs": [
    {
     "data": {
      "text/plain": [
       "0.9359886201991465"
      ]
     },
     "execution_count": 32,
     "metadata": {},
     "output_type": "execute_result"
    }
   ],
   "source": [
    "grid.best_score_"
   ]
  }
 ],
 "metadata": {
  "kernelspec": {
   "display_name": "Python [conda env:cdv_data_prep] *",
   "language": "python",
   "name": "conda-env-cdv_data_prep-py"
  },
  "language_info": {
   "codemirror_mode": {
    "name": "ipython",
    "version": 3
   },
   "file_extension": ".py",
   "mimetype": "text/x-python",
   "name": "python",
   "nbconvert_exporter": "python",
   "pygments_lexer": "ipython3",
   "version": "3.8.5"
  }
 },
 "nbformat": 4,
 "nbformat_minor": 5
}
