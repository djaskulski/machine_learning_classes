{
 "cells": [
  {
   "cell_type": "code",
   "execution_count": 53,
   "id": "b6815241-3408-4a94-ac54-f9cf1f9c54e5",
   "metadata": {},
   "outputs": [],
   "source": [
    "# 06_pca_tsne (n)\n",
    "# 1. Dla danych z zadania z 05 wykonaj:\n",
    "# PCA dla n_components = [2 ,4, 6] i wyświetl wartość explained_variance_ratio_\n",
    "# utwórz wykres typu \"słupkowego\" dla wszystkich n_components_\n",
    "# oblicz n_components_, które zachowają wariancję na poziomie 95%\n",
    "# 2. Dla datasetu z projektu:\n",
    "# utwórz scatter plot, korzystając z:\n",
    "# t-SNE*\n",
    "# PCA + t-SNE (skorzystaj z Pipeline lub make_pipeline)\n",
    "# porównaj czas oraz \"jakość\" powyższych wykresów\n",
    "# 3. Zaimplementuj GridsearchCV oraz kPCA dla danych z pkt. 2:\n",
    "# znajdź najlepszy kernel oraz parametr gamma (zacznij od np.linespace(0.03, 0.05, 5))\n",
    "# wybierz dowolny klasyfikator\n",
    "\n",
    "# * Jeżeli czas utworzenia wykresu z wykorzystaniem t-SNE jest za długi,  zmniejsz dataset (wybierz losowe obserwacje)\n",
    "\n",
    "# Rozwiązanie prześlij jako printscreen (jpg, pdf).\n",
    "# Nazwa pliku (bez polskich znaków):\n",
    "\n",
    "# Nazwisko_Imie_06_niestacj.jpg"
   ]
  },
  {
   "cell_type": "code",
   "execution_count": 54,
   "id": "71d673f6-2fcc-4c33-80a5-0ca448cd7697",
   "metadata": {},
   "outputs": [],
   "source": [
    "from sklearn.datasets import fetch_openml\n",
    "from sklearn.preprocessing import StandardScaler\n",
    "from sklearn.decomposition import PCA\n",
    "import numpy as np\n",
    "import matplotlib.pyplot as plt\n",
    "import seaborn as sns"
   ]
  },
  {
   "cell_type": "code",
   "execution_count": 55,
   "id": "9d9e5994-7b70-44f3-b4de-44da4f5f394a",
   "metadata": {},
   "outputs": [],
   "source": [
    "seed = np.random.seed(203)"
   ]
  },
  {
   "cell_type": "code",
   "execution_count": 56,
   "id": "912fc129-de26-46a7-9d83-d6efa047eefe",
   "metadata": {},
   "outputs": [],
   "source": [
    "mnist = fetch_openml(\"mnist_784\", version=1, as_frame=False)\n",
    "mnist.target = mnist.target.astype(np.uint8)"
   ]
  },
  {
   "cell_type": "code",
   "execution_count": 57,
   "id": "ab52df2d-4add-4865-b0fd-3c2849536f69",
   "metadata": {},
   "outputs": [
    {
     "data": {
      "text/plain": [
       "(70000, 784)"
      ]
     },
     "execution_count": 57,
     "metadata": {},
     "output_type": "execute_result"
    }
   ],
   "source": [
    "X = mnist[\"data\"]\n",
    "y = mnist[\"target\"]\n",
    "X.shape"
   ]
  },
  {
   "cell_type": "code",
   "execution_count": 58,
   "id": "8ff7b895-e2e2-4b81-87d7-fa5f49de38f7",
   "metadata": {},
   "outputs": [],
   "source": [
    "img = X[5]\n",
    "img = img.reshape(28, 28)"
   ]
  },
  {
   "cell_type": "code",
   "execution_count": 59,
   "id": "5926d0cd-7faf-46b3-a5e1-5b4723b01739",
   "metadata": {},
   "outputs": [
    {
     "data": {
      "image/png": "[encoded data removed]",
      "text/plain": [
       "<Figure size 432x288 with 1 Axes>"
      ]
     },
     "metadata": {
      "needs_background": "light"
     },
     "output_type": "display_data"
    },
    {
     "name": "stdout",
     "output_type": "stream",
     "text": [
      "2\n"
     ]
    }
   ],
   "source": [
    "plt.imshow(img, cmap=\"binary\")\n",
    "plt.axis(\"off\")\n",
    "plt.show()\n",
    "\n",
    "print(y[5])"
   ]
  },
  {
   "cell_type": "code",
   "execution_count": 60,
   "id": "bb1270c3-2263-4117-83e6-4f0da4b1d616",
   "metadata": {},
   "outputs": [
    {
     "data": {
      "text/plain": [
       "PCA(n_components=4)"
      ]
     },
     "execution_count": 60,
     "metadata": {},
     "output_type": "execute_result"
    }
   ],
   "source": [
    "pca_2 = PCA(n_components=4, random_state=seed)\n",
    "pca_2.fit(X)"
   ]
  },
  {
   "cell_type": "code",
   "execution_count": 61,
   "id": "28fc9666-6f07-4c66-9ba9-ffaa5c3bbbf4",
   "metadata": {},
   "outputs": [
    {
     "data": {
      "text/plain": [
       "array([0.09746116, 0.07155445, 0.06149531, 0.05403385])"
      ]
     },
     "execution_count": 61,
     "metadata": {},
     "output_type": "execute_result"
    }
   ],
   "source": [
    "expl_ratio_2 = pca_2.explained_variance_ratio_\n",
    "expl_ratio_2"
   ]
  },
  {
   "cell_type": "code",
   "execution_count": 62,
   "id": "5aa18ce1-8c78-44f6-b4a0-55f01aed573e",
   "metadata": {},
   "outputs": [
    {
     "name": "stdout",
     "output_type": "stream",
     "text": [
      "[0.09746116 0.16901561 0.23051091 0.28454476]\n",
      "0.28454475987737393\n"
     ]
    }
   ],
   "source": [
    "print(np.cumsum(expl_ratio_2))\n",
    "print(np.sum(expl_ratio_2))"
   ]
  },
  {
   "cell_type": "code",
   "execution_count": 63,
   "id": "531def1a-011c-4527-8c5d-781255ff6dad",
   "metadata": {},
   "outputs": [],
   "source": [
    "pca = PCA(random_state=seed)\n",
    "pca.fit(X)\n",
    "cumsum = np.cumsum(pca.explained_variance_ratio_)"
   ]
  },
  {
   "cell_type": "code",
   "execution_count": 64,
   "id": "cabb602d-04e6-40dd-81ce-adb422180cb5",
   "metadata": {},
   "outputs": [],
   "source": [
    "d = np.argmax(cumsum >= 0.95) + 1\n",
    "# print(cumsum)\n",
    "# print(d)"
   ]
  },
  {
   "cell_type": "code",
   "execution_count": 65,
   "id": "4e1d7324-3303-469b-9bf9-cc4a3503398a",
   "metadata": {},
   "outputs": [
    {
     "data": {
      "image/png": "[encoded data removed]",
      "text/plain": [
       "<Figure size 720x432 with 1 Axes>"
      ]
     },
     "metadata": {
      "needs_background": "light"
     },
     "output_type": "display_data"
    }
   ],
   "source": [
    "plt.figure(figsize=(10,6))\n",
    "\n",
    "plt.plot(cumsum, linewidth=3)\n",
    "\n",
    "plt.axis([0, 400, 0 , 1])\n",
    "plt.xlabel(\"Dimensions\")\n",
    "plt.ylabel(\"Explained Variance\")\n",
    "\n",
    "plt.plot([d,d], [0, 0.95], \"k:\")\n",
    "plt.plot([0,d], [0.95, 0.95], \"k:\")\n",
    "plt.plot(d, 0.95, \"ko\")\n",
    "           \n",
    "plt.grid()\n",
    "plt.show()"
   ]
  },
  {
   "cell_type": "code",
   "execution_count": 66,
   "id": "60d39441-b380-4f01-a0af-49e87ed150d5",
   "metadata": {},
   "outputs": [
    {
     "data": {
      "text/plain": [
       "154"
      ]
     },
     "execution_count": 66,
     "metadata": {},
     "output_type": "execute_result"
    }
   ],
   "source": [
    "pca = PCA(n_components=0.95, random_state=seed)\n",
    "x_reduced = pca.fit_transform(X)\n",
    "\n",
    "pca.n_components_"
   ]
  },
  {
   "cell_type": "code",
   "execution_count": 67,
   "id": "91f8acf1-4ca2-4ae6-8115-da85be3504ce",
   "metadata": {},
   "outputs": [
    {
     "data": {
      "text/plain": [
       "0.9503499702078613"
      ]
     },
     "execution_count": 67,
     "metadata": {},
     "output_type": "execute_result"
    }
   ],
   "source": [
    "np.sum(pca.explained_variance_ratio_)"
   ]
  },
  {
   "cell_type": "markdown",
   "id": "309a8dfc-98d7-44bb-bee9-4d127c283eb3",
   "metadata": {},
   "source": [
    "# 1"
   ]
  },
  {
   "cell_type": "code",
   "execution_count": 68,
   "id": "e165a638-1033-4877-99b7-8cc7e91474ba",
   "metadata": {},
   "outputs": [],
   "source": [
    "from sklearn.datasets import load_wine\n",
    "import pandas as pd"
   ]
  },
  {
   "cell_type": "code",
   "execution_count": 69,
   "id": "66e26d34-f0f3-4fca-9c51-28be0e372e7a",
   "metadata": {},
   "outputs": [
    {
     "data": {
      "text/plain": [
       "['DESCR', 'data', 'feature_names', 'frame', 'target', 'target_names']"
      ]
     },
     "execution_count": 69,
     "metadata": {},
     "output_type": "execute_result"
    }
   ],
   "source": [
    "# load and return the diabetes dataset (classification).\n",
    "wine = load_wine()\n",
    "dir(wine)"
   ]
  },
  {
   "cell_type": "code",
   "execution_count": 70,
   "id": "cc752e35-951b-40dc-9ee0-9846c50f9ccb",
   "metadata": {},
   "outputs": [],
   "source": [
    "# data, target assignments\n",
    "X, y = wine.data, wine.target"
   ]
  },
  {
   "cell_type": "code",
   "execution_count": 71,
   "id": "8cd3d9ff-5a76-48f4-a3d6-5c5b7d58b2ea",
   "metadata": {},
   "outputs": [],
   "source": [
    "elements = [2, 4, 6]\n",
    "ele_sum = []"
   ]
  },
  {
   "cell_type": "code",
   "execution_count": 72,
   "id": "5fb5751a-4ec4-4634-9b11-8ac89b12ba00",
   "metadata": {},
   "outputs": [
    {
     "name": "stdout",
     "output_type": "stream",
     "text": [
      "[0.99809123 0.00173592]\n",
      "[9.98091230e-01 1.73591562e-03 9.49589576e-05 5.02173562e-05]\n",
      "[9.98091230e-01 1.73591562e-03 9.49589576e-05 5.02173562e-05\n",
      " 1.23636847e-05 8.46213034e-06]\n"
     ]
    }
   ],
   "source": [
    "for ele in elements:\n",
    "    pca = PCA(n_components=ele, random_state=seed)\n",
    "    pca.fit(X)\n",
    "    \n",
    "    expl_ratio = pca.explained_variance_ratio_\n",
    "    print(expl_ratio)\n",
    "    \n",
    "    expl_ratio_sum = sum(expl_ratio)\n",
    "    ele_sum.append(expl_ratio_sum)"
   ]
  },
  {
   "cell_type": "code",
   "execution_count": 73,
   "id": "14a186d9-9560-450a-af16-446e612b7a5f",
   "metadata": {},
   "outputs": [],
   "source": [
    "df_to_plot = pd.DataFrame(ele_sum, index=elements, columns=[\"expl_ratio\"])\n",
    "df_to_plot.index.name = \"n. of components\""
   ]
  },
  {
   "cell_type": "code",
   "execution_count": 74,
   "id": "11566f05-7682-4417-9422-e8d9e44734d8",
   "metadata": {},
   "outputs": [
    {
     "data": {
      "text/plain": [
       "<AxesSubplot:xlabel='n. of components'>"
      ]
     },
     "execution_count": 74,
     "metadata": {},
     "output_type": "execute_result"
    },
    {
     "data": {
      "image/png": "[encoded data removed]",
      "text/plain": [
       "<Figure size 432x288 with 1 Axes>"
      ]
     },
     "metadata": {
      "needs_background": "light"
     },
     "output_type": "display_data"
    }
   ],
   "source": [
    "df_to_plot.plot(kind=\"bar\", grid=True)"
   ]
  },
  {
   "cell_type": "code",
   "execution_count": 75,
   "id": "a46eb903-01c6-4b9e-b433-c77456ed0bce",
   "metadata": {},
   "outputs": [
    {
     "data": {
      "text/plain": [
       "1"
      ]
     },
     "execution_count": 75,
     "metadata": {},
     "output_type": "execute_result"
    }
   ],
   "source": [
    "pca = PCA(n_components=0.95, random_state=seed)\n",
    "x_reduced = pca.fit_transform(X)\n",
    "\n",
    "pca.n_components_"
   ]
  },
  {
   "cell_type": "markdown",
   "id": "565d179e-602c-4e7a-9bc5-ca0805817ab8",
   "metadata": {},
   "source": [
    "# 2"
   ]
  },
  {
   "cell_type": "markdown",
   "id": "649e3b03-28fb-414f-aaa1-54090458ec22",
   "metadata": {},
   "source": [
    "https://drive.google.com/drive/folders/1kTundijeYX-E-ze4Dm5DqEVsH1o1YJf9?usp=sharinghttps://drive.google.com/drive/folders/1kTundijeYX-E-ze4Dm5DqEVsH1o1YJf9?usp=sharing"
   ]
  },
  {
   "cell_type": "code",
   "execution_count": 76,
   "id": "5534c057-fdc0-4dce-8a61-6f8ce7ada841",
   "metadata": {},
   "outputs": [
    {
     "data": {
      "text/html": [
       "<div>\n",
       "<style scoped>\n",
       "    .dataframe tbody tr th:only-of-type {\n",
       "        vertical-align: middle;\n",
       "    }\n",
       "\n",
       "    .dataframe tbody tr th {\n",
       "        vertical-align: top;\n",
       "    }\n",
       "\n",
       "    .dataframe thead th {\n",
       "        text-align: right;\n",
       "    }\n",
       "</style>\n",
       "<table border=\"1\" class=\"dataframe\">\n",
       "  <thead>\n",
       "    <tr style=\"text-align: right;\">\n",
       "      <th></th>\n",
       "      <th>0</th>\n",
       "      <th>1</th>\n",
       "      <th>2</th>\n",
       "      <th>3</th>\n",
       "      <th>4</th>\n",
       "      <th>5</th>\n",
       "      <th>6</th>\n",
       "      <th>7</th>\n",
       "      <th>8</th>\n",
       "      <th>9</th>\n",
       "      <th>...</th>\n",
       "      <th>9990</th>\n",
       "      <th>9991</th>\n",
       "      <th>9992</th>\n",
       "      <th>9993</th>\n",
       "      <th>9994</th>\n",
       "      <th>9995</th>\n",
       "      <th>9996</th>\n",
       "      <th>9997</th>\n",
       "      <th>9998</th>\n",
       "      <th>9999</th>\n",
       "    </tr>\n",
       "  </thead>\n",
       "  <tbody>\n",
       "    <tr>\n",
       "      <th>0</th>\n",
       "      <td>179.171</td>\n",
       "      <td>102.366</td>\n",
       "      <td>-90318.459</td>\n",
       "      <td>-76354.589</td>\n",
       "      <td>-30178.335</td>\n",
       "      <td>617.269</td>\n",
       "      <td>-1282.834</td>\n",
       "      <td>-1096.950</td>\n",
       "      <td>171.635</td>\n",
       "      <td>-19.206</td>\n",
       "      <td>...</td>\n",
       "      <td>-43.192</td>\n",
       "      <td>-224.675</td>\n",
       "      <td>12.324</td>\n",
       "      <td>232.965</td>\n",
       "      <td>152.504</td>\n",
       "      <td>122.130</td>\n",
       "      <td>107.225</td>\n",
       "      <td>565.803</td>\n",
       "      <td>537.527</td>\n",
       "      <td>-60.706</td>\n",
       "    </tr>\n",
       "    <tr>\n",
       "      <th>1</th>\n",
       "      <td>106.673</td>\n",
       "      <td>-63.988</td>\n",
       "      <td>14393.611</td>\n",
       "      <td>-23722.852</td>\n",
       "      <td>-9392.469</td>\n",
       "      <td>449.456</td>\n",
       "      <td>-562.289</td>\n",
       "      <td>-536.924</td>\n",
       "      <td>-1162.814</td>\n",
       "      <td>168.002</td>\n",
       "      <td>...</td>\n",
       "      <td>-390.906</td>\n",
       "      <td>-49.040</td>\n",
       "      <td>94.748</td>\n",
       "      <td>-168.545</td>\n",
       "      <td>612.119</td>\n",
       "      <td>-216.957</td>\n",
       "      <td>-5.355</td>\n",
       "      <td>-315.510</td>\n",
       "      <td>-145.489</td>\n",
       "      <td>-1254.983</td>\n",
       "    </tr>\n",
       "    <tr>\n",
       "      <th>2</th>\n",
       "      <td>-4.873</td>\n",
       "      <td>-205.671</td>\n",
       "      <td>-28555.498</td>\n",
       "      <td>7933.658</td>\n",
       "      <td>4245.138</td>\n",
       "      <td>1603.993</td>\n",
       "      <td>-914.152</td>\n",
       "      <td>1449.421</td>\n",
       "      <td>-700.017</td>\n",
       "      <td>460.350</td>\n",
       "      <td>...</td>\n",
       "      <td>-0.575</td>\n",
       "      <td>162.502</td>\n",
       "      <td>178.716</td>\n",
       "      <td>-403.328</td>\n",
       "      <td>504.106</td>\n",
       "      <td>179.730</td>\n",
       "      <td>-186.519</td>\n",
       "      <td>481.705</td>\n",
       "      <td>-404.409</td>\n",
       "      <td>-896.072</td>\n",
       "    </tr>\n",
       "    <tr>\n",
       "      <th>3</th>\n",
       "      <td>-190.940</td>\n",
       "      <td>195.398</td>\n",
       "      <td>7372.475</td>\n",
       "      <td>-57092.149</td>\n",
       "      <td>21447.785</td>\n",
       "      <td>508.022</td>\n",
       "      <td>1256.862</td>\n",
       "      <td>1498.347</td>\n",
       "      <td>569.061</td>\n",
       "      <td>16.259</td>\n",
       "      <td>...</td>\n",
       "      <td>19.651</td>\n",
       "      <td>-18.126</td>\n",
       "      <td>104.865</td>\n",
       "      <td>336.881</td>\n",
       "      <td>1799.097</td>\n",
       "      <td>359.658</td>\n",
       "      <td>102.798</td>\n",
       "      <td>242.973</td>\n",
       "      <td>-536.491</td>\n",
       "      <td>316.552</td>\n",
       "    </tr>\n",
       "    <tr>\n",
       "      <th>4</th>\n",
       "      <td>-235.533</td>\n",
       "      <td>332.318</td>\n",
       "      <td>47801.547</td>\n",
       "      <td>-48097.081</td>\n",
       "      <td>-8387.428</td>\n",
       "      <td>-1062.866</td>\n",
       "      <td>-511.930</td>\n",
       "      <td>908.649</td>\n",
       "      <td>-424.938</td>\n",
       "      <td>322.100</td>\n",
       "      <td>...</td>\n",
       "      <td>-302.825</td>\n",
       "      <td>-358.884</td>\n",
       "      <td>-94.971</td>\n",
       "      <td>109.459</td>\n",
       "      <td>189.027</td>\n",
       "      <td>-990.600</td>\n",
       "      <td>125.996</td>\n",
       "      <td>-1309.715</td>\n",
       "      <td>-510.876</td>\n",
       "      <td>768.972</td>\n",
       "    </tr>\n",
       "  </tbody>\n",
       "</table>\n",
       "<p>5 rows × 10000 columns</p>\n",
       "</div>"
      ],
      "text/plain": [
       "      0        1          2          3          4         5         6     \\\n",
       "0  179.171  102.366 -90318.459 -76354.589 -30178.335   617.269 -1282.834   \n",
       "1  106.673  -63.988  14393.611 -23722.852  -9392.469   449.456  -562.289   \n",
       "2   -4.873 -205.671 -28555.498   7933.658   4245.138  1603.993  -914.152   \n",
       "3 -190.940  195.398   7372.475 -57092.149  21447.785   508.022  1256.862   \n",
       "4 -235.533  332.318  47801.547 -48097.081  -8387.428 -1062.866  -511.930   \n",
       "\n",
       "       7         8        9     ...     9990     9991     9992     9993  \\\n",
       "0 -1096.950   171.635  -19.206  ...  -43.192 -224.675   12.324  232.965   \n",
       "1  -536.924 -1162.814  168.002  ... -390.906  -49.040   94.748 -168.545   \n",
       "2  1449.421  -700.017  460.350  ...   -0.575  162.502  178.716 -403.328   \n",
       "3  1498.347   569.061   16.259  ...   19.651  -18.126  104.865  336.881   \n",
       "4   908.649  -424.938  322.100  ... -302.825 -358.884  -94.971  109.459   \n",
       "\n",
       "       9994     9995     9996      9997     9998      9999  \n",
       "0   152.504  122.130  107.225   565.803  537.527   -60.706  \n",
       "1   612.119 -216.957   -5.355  -315.510 -145.489 -1254.983  \n",
       "2   504.106  179.730 -186.519   481.705 -404.409  -896.072  \n",
       "3  1799.097  359.658  102.798   242.973 -536.491   316.552  \n",
       "4   189.027 -990.600  125.996 -1309.715 -510.876   768.972  \n",
       "\n",
       "[5 rows x 10000 columns]"
      ]
     },
     "execution_count": 76,
     "metadata": {},
     "output_type": "execute_result"
    }
   ],
   "source": [
    "data = pd.read_csv(\"project_data/test_data.csv\", header=None)\n",
    "data.head()"
   ]
  },
  {
   "cell_type": "code",
   "execution_count": 77,
   "id": "e22dcaba-d8e5-4ca6-a873-106080023c02",
   "metadata": {},
   "outputs": [],
   "source": [
    "import time\n",
    "from sklearn.model_selection import train_test_split\n",
    "from sklearn.pipeline import Pipeline\n",
    "from sklearn.manifold import TSNE\n",
    "from sklearn.cluster import KMeans"
   ]
  },
  {
   "cell_type": "code",
   "execution_count": 78,
   "id": "93d35038-61d7-4f69-9ba9-43238aab2a3b",
   "metadata": {},
   "outputs": [],
   "source": [
    "# just take 0.2 of our data\n",
    "data_02, data_08 = train_test_split(data, test_size=0.8, random_state=seed)"
   ]
  },
  {
   "cell_type": "code",
   "execution_count": 79,
   "id": "ce76f4d0-dd34-4ba5-92e0-c470500a768a",
   "metadata": {},
   "outputs": [],
   "source": [
    "# standar scaling\n",
    "scaler = StandardScaler().fit(data_02)\n",
    "data_std = scaler.transform(data_02)"
   ]
  },
  {
   "cell_type": "code",
   "execution_count": 80,
   "id": "d538d6d2-afad-4e5e-b643-63f72c39a907",
   "metadata": {},
   "outputs": [
    {
     "name": "stdout",
     "output_type": "stream",
     "text": [
      "[0.0050757  0.00502607]\n",
      "[112.64657385 112.09451995]\n"
     ]
    }
   ],
   "source": [
    "# dimensionality reduction pca\n",
    "pca = PCA(n_components=2, whiten=True, random_state=seed)\n",
    "pca_data = pca.fit_transform(data_std)\n",
    "\n",
    "print(pca.explained_variance_ratio_)\n",
    "print(pca.singular_values_)"
   ]
  },
  {
   "cell_type": "code",
   "execution_count": 81,
   "id": "cf3e61a0-6cb6-4e6c-ab9e-591298b6ebbd",
   "metadata": {},
   "outputs": [
    {
     "name": "stdout",
     "output_type": "stream",
     "text": [
      "1.0782794952392578\n"
     ]
    }
   ],
   "source": [
    "# dimensionality reduction tsne\n",
    "tsne = TSNE(n_components=2, random_state=seed)\n",
    "tsne_data = tsne.fit_transform(data_std)\n",
    "\n",
    "#print(tsne.embedding_)\n",
    "print(tsne.kl_divergence_)"
   ]
  },
  {
   "cell_type": "code",
   "execution_count": 82,
   "id": "9fe9d0ac-45e0-4065-9fab-8ad372d69ca7",
   "metadata": {},
   "outputs": [],
   "source": [
    "data_sets = [pca_data, tsne_data]\n",
    "data_names = [\"pca_data\", \"tsne_data\"]"
   ]
  },
  {
   "cell_type": "code",
   "execution_count": 83,
   "id": "bae6bbaa-cada-498f-ac30-0b3511244bb0",
   "metadata": {},
   "outputs": [
    {
     "name": "stdout",
     "output_type": "stream",
     "text": [
      "time of 1 plot: 0.03999948501586914 seconds\n",
      "time of 1 plot: 0.026995182037353516 seconds\n"
     ]
    },
    {
     "data": {
      "image/png": "[encoded data removed]",
      "text/plain": [
       "<Figure size 576x432 with 1 Axes>"
      ]
     },
     "metadata": {
      "needs_background": "light"
     },
     "output_type": "display_data"
    },
    {
     "data": {
      "image/png": "[encoded data removed]",
      "text/plain": [
       "<Figure size 576x432 with 1 Axes>"
      ]
     },
     "metadata": {
      "needs_background": "light"
     },
     "output_type": "display_data"
    }
   ],
   "source": [
    "# plots \n",
    "for i, n in zip(data_sets, data_names):\n",
    "    plt.figure(figsize=(8, 6))\n",
    "    start_time = time.time()\n",
    "    plt.scatter(i[:, 0], i[:, 1])\n",
    "    end_time = time.time()\n",
    "    plt.title(n)\n",
    "    print(f\"time of 1 plot: {end_time - start_time} seconds\")"
   ]
  },
  {
   "cell_type": "code",
   "execution_count": 84,
   "id": "0e691ba7-d8bc-4ef5-9b7c-1d22c7eddb34",
   "metadata": {},
   "outputs": [],
   "source": [
    "from sklearn.cluster import MeanShift, estimate_bandwidth"
   ]
  },
  {
   "cell_type": "code",
   "execution_count": 85,
   "id": "30b99e0d-1367-40b4-94bc-1ef3cc8304cf",
   "metadata": {},
   "outputs": [
    {
     "name": "stdout",
     "output_type": "stream",
     "text": [
      "number of estimated clusters : 1 for pca_data\n",
      "number of estimated clusters : 1 for tsne_data\n"
     ]
    }
   ],
   "source": [
    "# compute clustering with MeanShift\n",
    "\n",
    "for d, n in zip(data_sets, data_names):\n",
    "    # the following bandwidth can be automatically detected using\n",
    "    bandwidth = estimate_bandwidth(X, quantile=0.2, n_samples=500)\n",
    "\n",
    "    ms = MeanShift(bandwidth=bandwidth, bin_seeding=True)\n",
    "    ms.fit(d)\n",
    "    labels = ms.labels_\n",
    "    cluster_centers = ms.cluster_centers_\n",
    "\n",
    "    labels_unique = np.unique(labels)\n",
    "    n_clusters_ = len(labels_unique)\n",
    "\n",
    "    print(f\"number of estimated clusters : {n_clusters_} for {n}\")"
   ]
  },
  {
   "cell_type": "code",
   "execution_count": 86,
   "id": "ed06a333-8e09-47e7-ab83-db578c91f29b",
   "metadata": {},
   "outputs": [
    {
     "data": {
      "image/png": "[encoded data removed]",
      "text/plain": [
       "<Figure size 576x432 with 1 Axes>"
      ]
     },
     "metadata": {
      "needs_background": "light"
     },
     "output_type": "display_data"
    },
    {
     "data": {
      "image/png": "[encoded data removed]",
      "text/plain": [
       "<Figure size 576x432 with 1 Axes>"
      ]
     },
     "metadata": {
      "needs_background": "light"
     },
     "output_type": "display_data"
    }
   ],
   "source": [
    "# plot clusters with centro\n",
    "for d, n in zip(data_sets, data_names):\n",
    "    km_cls = KMeans(\n",
    "        n_clusters=1,\n",
    "        init='random',\n",
    "        n_init=10,\n",
    "        max_iter=300,\n",
    "        random_state=seed\n",
    "    )\n",
    "\n",
    "    y_km = km_cls.fit_predict(d)\n",
    "\n",
    "    plt.figure(figsize=(8, 6))\n",
    "    plt.scatter(\n",
    "        d[y_km == 0, 0],\n",
    "        d[y_km == 0, 1],\n",
    "        c='green', edgecolor='black',\n",
    "        label='1', s=80\n",
    "    )\n",
    "\n",
    "    plt.scatter(\n",
    "        d[y_km == 1, 0],\n",
    "        d[y_km == 1, 1],\n",
    "        c='orange', edgecolor='black',\n",
    "        label='1', s=80\n",
    "    )\n",
    "\n",
    "    plt.scatter(\n",
    "        km_cls.cluster_centers_[:, 0],\n",
    "        km_cls.cluster_centers_[:, 1],\n",
    "        c='r', marker=\"o\", s=200, alpha=0.6,\n",
    "        edgecolor=\"black\", label='Cent'\n",
    "    )\n",
    "    \n",
    "    plt.title(n)\n",
    "    plt.legend()\n",
    "    plt.grid()\n",
    "    plt.show()"
   ]
  },
  {
   "cell_type": "code",
   "execution_count": 87,
   "id": "92bdbbf0-6423-4502-b56e-f0b70db78e73",
   "metadata": {},
   "outputs": [],
   "source": [
    "# define pipeline\n",
    "pipe = Pipeline([\n",
    "    (\"std\", StandardScaler()),\n",
    "    (\"pca\", PCA(n_components=0.95, random_state=seed)),\n",
    "    (\"tsne\", TSNE(n_components=2, random_state=seed)),\n",
    "])"
   ]
  },
  {
   "cell_type": "code",
   "execution_count": 88,
   "id": "670798b5-47d1-4571-8434-35be5c3182a9",
   "metadata": {},
   "outputs": [],
   "source": [
    "# fit transform method\n",
    "piped = pipe.fit_transform(data_02)"
   ]
  },
  {
   "cell_type": "code",
   "execution_count": 102,
   "id": "e108f2d5-8058-4e46-97d1-ac4b63d00873",
   "metadata": {},
   "outputs": [
    {
     "data": {
      "image/png": "[encoded data removed]",
      "text/plain": [
       "<Figure size 576x432 with 1 Axes>"
      ]
     },
     "metadata": {
      "needs_background": "light"
     },
     "output_type": "display_data"
    }
   ],
   "source": [
    "# scatter for claster visibility\n",
    "plt.figure(figsize=(8, 6))\n",
    "plt.scatter(\n",
    "    piped[:, 0],\n",
    "    piped[:, 1],\n",
    "    s=75, c=\"pink\",\n",
    "    marker=\"o\", \n",
    "    alpha=0.6,\n",
    "    edgecolor=\"black\"\n",
    "    )\n",
    "\n",
    "plt.title(data_names)\n",
    "plt.grid()\n",
    "plt.show()"
   ]
  },
  {
   "cell_type": "markdown",
   "id": "c5aa0333-a187-4f6e-b559-ca3d0f63c202",
   "metadata": {},
   "source": [
    "# 3"
   ]
  },
  {
   "cell_type": "code",
   "execution_count": null,
   "id": "bfac07f3-74cf-4b7f-8d6a-9a2cc3a30fe8",
   "metadata": {},
   "outputs": [],
   "source": [
    "# 3. Zaimplementuj GridsearchCV oraz kPCA dla danych z pkt. 2:\n",
    "# znajdź najlepszy kernel oraz parametr gamma (zacznij od np.linespace(0.03, 0.05, 5))\n",
    "# wybierz dowolny klasyfikator"
   ]
  }
 ],
 "metadata": {
  "kernelspec": {
   "display_name": "Python [conda env:cdv_data_prep] *",
   "language": "python",
   "name": "conda-env-cdv_data_prep-py"
  },
  "language_info": {
   "codemirror_mode": {
    "name": "ipython",
    "version": 3
   },
   "file_extension": ".py",
   "mimetype": "text/x-python",
   "name": "python",
   "nbconvert_exporter": "python",
   "pygments_lexer": "ipython3",
   "version": "3.8.5"
  }
 },
 "nbformat": 4,
 "nbformat_minor": 5
}
