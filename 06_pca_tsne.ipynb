{
 "cells": [
  {
   "cell_type": "code",
   "execution_count": 1,
   "id": "b6815241-3408-4a94-ac54-f9cf1f9c54e5",
   "metadata": {},
   "outputs": [],
   "source": [
    "# 06_pca_tsne (n)\n",
    "# 1. Dla danych z zadania z 05 wykonaj:\n",
    "# PCA dla n_components = [2 ,4, 6] i wyświetl wartość explained_variance_ratio_\n",
    "# utwórz wykres typu \"słupkowego\" dla wszystkich n_components_\n",
    "# oblicz n_components_, które zachowają wariancję na poziomie 95%\n",
    "# 2. Dla datasetu z projektu:\n",
    "# utwórz scatter plot, korzystając z:\n",
    "# t-SNE*\n",
    "# PCA + t-SNE (skorzystaj z Pipeline lub make_pipeline)\n",
    "# porównaj czas oraz \"jakość\" powyższych wykresów\n",
    "# 3. Zaimplementuj GridsearchCV oraz kPCA dla danych z pkt. 2:\n",
    "# znajdź najlepszy kernel oraz parametr gamma (zacznij od np.linespace(0.03, 0.05, 5))\n",
    "# wybierz dowolny klasyfikator\n",
    "\n",
    "# * Jeżeli czas utworzenia wykresu z wykorzystaniem t-SNE jest za długi,  zmniejsz dataset (wybierz losowe obserwacje)\n",
    "\n",
    "# Rozwiązanie prześlij jako printscreen (jpg, pdf).\n",
    "# Nazwa pliku (bez polskich znaków):\n",
    "\n",
    "# Nazwisko_Imie_06_niestacj.jpg"
   ]
  },
  {
   "cell_type": "code",
   "execution_count": null,
   "id": "e165a638-1033-4877-99b7-8cc7e91474ba",
   "metadata": {},
   "outputs": [],
   "source": []
  }
 ],
 "metadata": {
  "kernelspec": {
   "display_name": "Python [conda env:cdv_data_prep] *",
   "language": "python",
   "name": "conda-env-cdv_data_prep-py"
  },
  "language_info": {
   "codemirror_mode": {
    "name": "ipython",
    "version": 3
   },
   "file_extension": ".py",
   "mimetype": "text/x-python",
   "name": "python",
   "nbconvert_exporter": "python",
   "pygments_lexer": "ipython3",
   "version": "3.8.5"
  }
 },
 "nbformat": 4,
 "nbformat_minor": 5
}
