{
 "cells": [
  {
   "cell_type": "code",
   "execution_count": 27,
   "id": "cb6984db-6679-4c9c-919a-76cbd6b7f71a",
   "metadata": {},
   "outputs": [],
   "source": [
    "# 07_log_svm (n)\n",
    "# do poniższych zadań wykorzystaj dataset z projektu.\n",
    "\n",
    "# 1. Utwórz GridSearchCV dla pipeline, składającego się z elementów (dobierz prawidłową kolejność):\n",
    "# PCA lub KPCA\n",
    "# StandardScaller\n",
    "# estymatory:\n",
    "# LogisticRegression\n",
    "# solver = ?\n",
    "# penalty = ?\n",
    "# class_weight = [None, \"balanced\"]\n",
    "# C = ?\n",
    "# SVC\n",
    "# kernel=[\"linear\", \"rbf\", \"poly\"]\n",
    "# class_weight = [None, \"balanced\"]\n",
    "# gamma = ?\n",
    "# C = ?\n",
    "# 2. Przeprowadź trening dla zdefiniowanej metryki.\n",
    "# 3. Dla chętnych:\n",
    "# w GridsearchCV podaj kilka metryk -> przykład\n",
    "# przeprowadź analizę cv_results_\n",
    "\n",
    "# W miejscu ? wybierz odpowiednie wartości, biorąc pod uwagę charakter danych i problem jakie ma rozwiązać algorytm ML.\n",
    "\n",
    "# Rozwiązanie prześlij jako printscreen (jpg, pdf).\n",
    "# Nazwa pliku (bez polskich znaków):\n",
    "\n",
    "# Nazwisko_Imie_07_niestacj.jpg"
   ]
  },
  {
   "cell_type": "code",
   "execution_count": 28,
   "id": "a93d4a0d-cb73-4457-acf1-7f07ab46439c",
   "metadata": {},
   "outputs": [],
   "source": [
    "import numpy as np\n",
    "import pandas as pd\n",
    "from sklearn.model_selection import train_test_split\n",
    "from sklearn.preprocessing import StandardScaler\n",
    "from sklearn.decomposition import PCA"
   ]
  },
  {
   "cell_type": "code",
   "execution_count": 29,
   "id": "fafe8545-0960-469f-8580-5ca8ff9b701b",
   "metadata": {},
   "outputs": [],
   "source": [
    "seed = np.random.seed(204)"
   ]
  },
  {
   "cell_type": "code",
   "execution_count": 30,
   "id": "cb32f2e1-3b9b-46b4-bb70-73c9e7138676",
   "metadata": {},
   "outputs": [],
   "source": [
    "train_X = pd.read_csv(\"project_data/train_data.csv\", header=None)\n",
    "train_label_df = pd.read_csv(\"project_data/train_labels.csv\", header=None)"
   ]
  },
  {
   "cell_type": "code",
   "execution_count": 31,
   "id": "d9e0cbbc-e816-4038-a945-313f327ae835",
   "metadata": {},
   "outputs": [],
   "source": [
    "train_label = train_label_df[0].values"
   ]
  },
  {
   "cell_type": "code",
   "execution_count": 32,
   "id": "1306adb9-f66c-4e19-8453-65651899b99a",
   "metadata": {},
   "outputs": [],
   "source": [
    "X_train, X_test, y_train, y_test = train_test_split(train_X, train_label, test_size=0.97, shuffle=True, random_state=seed)"
   ]
  },
  {
   "cell_type": "code",
   "execution_count": 33,
   "id": "abf108e8-4456-4237-8190-dc891f10f018",
   "metadata": {},
   "outputs": [],
   "source": [
    "scaler = StandardScaler().fit(X_train)\n",
    "X_train_std = scaler.transform(X_train)\n",
    "X_test_std = scaler.transform(X_test)"
   ]
  },
  {
   "cell_type": "code",
   "execution_count": 57,
   "id": "cbcd1ef9-8f7d-4bea-98d0-f6766b2d256e",
   "metadata": {},
   "outputs": [
    {
     "name": "stdout",
     "output_type": "stream",
     "text": [
      "[0.00066465 0.00065751]\n",
      "[157.62284193 156.77362789]\n"
     ]
    }
   ],
   "source": [
    "# dimensionality reduction pca\n",
    "pca = PCA(n_components=2, whiten=True, random_state=seed)\n",
    "X_train_std_pca = pca.fit_transform(X_train_std)\n",
    "X_test_std_pca = pca.fit_transform(X_test_std)\n",
    "\n",
    "print(pca.explained_variance_ratio_)\n",
    "print(pca.singular_values_)"
   ]
  },
  {
   "cell_type": "code",
   "execution_count": 35,
   "id": "d4b53c46-6d15-4ea9-b3c4-46d2b9a01068",
   "metadata": {},
   "outputs": [],
   "source": [
    "from sklearn.pipeline import Pipeline\n",
    "from sklearn.model_selection import StratifiedKFold\n",
    "from sklearn.model_selection import GridSearchCV\n",
    "from sklearn.linear_model import LogisticRegression\n",
    "from sklearn.linear_model import SGDClassifier\n",
    "from sklearn.svm import SVC"
   ]
  },
  {
   "cell_type": "code",
   "execution_count": 36,
   "id": "cce30d4b-4d9f-4861-b9ae-f1930db5a215",
   "metadata": {},
   "outputs": [],
   "source": [
    "log_reg_model = LogisticRegression()\n",
    "sgd_model = SGDClassifier()\n",
    "svc_model = SVC()"
   ]
  },
  {
   "cell_type": "code",
   "execution_count": 37,
   "id": "96c85400-9943-4892-a88c-cd02ec11eec9",
   "metadata": {},
   "outputs": [],
   "source": [
    "pipe = Pipeline([(\"classifier\", SVC())])"
   ]
  },
  {
   "cell_type": "code",
   "execution_count": 38,
   "id": "96684f8e-a428-4e67-a2cd-4b0d4979162a",
   "metadata": {},
   "outputs": [],
   "source": [
    "search_space = [\n",
    "    {\"classifier\": [log_reg_model],\n",
    "    \"classifier__solver\": ['lbfgs', 'sag', 'saga'],\n",
    "    \"classifier__penalty\": ['l1', 'l2', 'elasticnet', None],\n",
    "    \"classifier__class_weight\": [\"balanced\", None],\n",
    "    \"classifier__C\": np.logspace(0, 4, 10),\n",
    "    \"classifier__multi_class\": ['ovr']},\n",
    "    \n",
    "    {\"classifier\": [sgd_model],\n",
    "    \"classifier__penalty\": ['l1', 'l2', 'elasticnet'],\n",
    "    \"classifier__class_weight\": [None, \"balanced\"],\n",
    "    \"classifier__alpha\": [1e-4, 1e-3, 1e-2, 1e-1, 1e0, 1e1], \n",
    "    \"classifier__loss\": ['hinge', 'log', 'perceptron']},\n",
    "    \n",
    "    {\"classifier\": [svc_model],\n",
    "    \"classifier__kernel\":[\"linear\", \"rbf\", \"poly\"],\n",
    "    \"classifier__class_weight\": [None, \"balanced\"],\n",
    "    \"classifier__gamma\": [1e-4, 1e-3, 1e-2, 1e-1, 1e0, 1e1],\n",
    "    \"classifier__C\": np.logspace(0, 4, 10)},\n",
    "]"
   ]
  },
  {
   "cell_type": "code",
   "execution_count": 39,
   "id": "8baa8b39-4ef4-4284-953e-a9b2420cab87",
   "metadata": {},
   "outputs": [],
   "source": [
    "skf = StratifiedKFold(n_splits=3, random_state=seed, shuffle=True)"
   ]
  },
  {
   "cell_type": "code",
   "execution_count": 40,
   "id": "6fde7e55-2395-41ea-9cac-78a8140f157a",
   "metadata": {},
   "outputs": [],
   "source": [
    "from sklearn.metrics import accuracy_score\n",
    "from sklearn.metrics import roc_auc_score\n",
    "from sklearn.metrics import make_scorer\n",
    "from sklearn.metrics import classification_report"
   ]
  },
  {
   "cell_type": "code",
   "execution_count": 41,
   "id": "84d016eb-349e-4b22-9148-268fbf06d42c",
   "metadata": {},
   "outputs": [],
   "source": [
    "# scoring = {'ACC': make_scorer(accuracy_score),\n",
    "#            'ROC_AUC': make_scorer(roc_auc_score)}"
   ]
  },
  {
   "cell_type": "code",
   "execution_count": 42,
   "id": "6a0b9c6b-8e7d-40a6-8b4a-d69a66483123",
   "metadata": {},
   "outputs": [],
   "source": [
    "gridsearch = GridSearchCV(pipe, search_space, cv=skf, verbose=0, n_jobs=-1)"
   ]
  },
  {
   "cell_type": "code",
   "execution_count": 44,
   "id": "92a5e1bb-ad13-4ca6-8797-1b28e46b43a3",
   "metadata": {},
   "outputs": [
    {
     "name": "stderr",
     "output_type": "stream",
     "text": [
      "C:\\Users\\DJaskulski\\miniconda3\\envs\\cdv_data_prep\\lib\\site-packages\\sklearn\\model_selection\\_search.py:922: UserWarning: One or more of the test scores are non-finite: [       nan        nan 0.62612613 0.60810811 0.60810811 0.60810811\n",
      "        nan        nan        nan        nan        nan        nan\n",
      "        nan        nan 0.89284021 0.89284021 0.89284021 0.89284021\n",
      "        nan        nan        nan        nan        nan        nan\n",
      "        nan        nan 0.60810811 0.60810811 0.60810811 0.60810811\n",
      "        nan        nan        nan        nan        nan        nan\n",
      "        nan        nan 0.89284021 0.89284021 0.89284021 0.89284021\n",
      "        nan        nan        nan        nan        nan        nan\n",
      "        nan        nan 0.60810811 0.60810811 0.60810811 0.60810811\n",
      "        nan        nan        nan        nan        nan        nan\n",
      "        nan        nan 0.89284021 0.89284021 0.89284021 0.89284021\n",
      "        nan        nan        nan        nan        nan        nan\n",
      "        nan        nan 0.60810811 0.60810811 0.60810811 0.60810811\n",
      "        nan        nan        nan        nan        nan        nan\n",
      "        nan        nan 0.89284021 0.89284021 0.89284021 0.89284021\n",
      "        nan        nan        nan        nan        nan        nan\n",
      "        nan        nan 0.60810811 0.60810811 0.60810811 0.60810811\n",
      "        nan        nan        nan        nan        nan        nan\n",
      "        nan        nan 0.89284021 0.89284021 0.89284021 0.89284021\n",
      "        nan        nan        nan        nan        nan        nan\n",
      "        nan        nan 0.60810811 0.60810811 0.60810811 0.60810811\n",
      "        nan        nan        nan        nan        nan        nan\n",
      "        nan        nan 0.89284021 0.89284021 0.89284021 0.89284021\n",
      "        nan        nan        nan        nan        nan        nan\n",
      "        nan        nan 0.60810811 0.60810811 0.60810811 0.60810811\n",
      "        nan        nan        nan        nan        nan        nan\n",
      "        nan        nan 0.89284021 0.89284021 0.89284021 0.89284021\n",
      "        nan        nan        nan        nan        nan        nan\n",
      "        nan        nan 0.60810811 0.60810811 0.60810811 0.60810811\n",
      "        nan        nan        nan        nan        nan        nan\n",
      "        nan        nan 0.89284021 0.89284021 0.89284021 0.89284021\n",
      "        nan        nan        nan        nan        nan        nan\n",
      "        nan        nan 0.60810811 0.60810811 0.60810811 0.60810811\n",
      "        nan        nan        nan        nan        nan        nan\n",
      "        nan        nan 0.89284021 0.89284021 0.89284021 0.89284021\n",
      "        nan        nan        nan        nan        nan        nan\n",
      "        nan        nan 0.60810811 0.60810811 0.60810811 0.60810811\n",
      "        nan        nan        nan        nan        nan        nan\n",
      "        nan        nan 0.89284021 0.89284021 0.89284021 0.89284021\n",
      "        nan        nan        nan        nan        nan        nan\n",
      " 0.76789948 0.83878615 0.84020863 0.89284021 0.80275012 0.8838312\n",
      " 0.84779516 0.7847321  0.84779516 0.1697487  0.50047416 0.47368421\n",
      " 0.58463727 0.37648174 0.61759128 0.47392129 0.52797534 0.50071124\n",
      " 0.89284021 0.89284021 0.89284021 0.89284021 0.89284021 0.89284021\n",
      " 0.77572309 0.7961119  0.82266477 0.39947843 0.26031294 0.51849218\n",
      " 0.47415837 0.59009009 0.45590327 0.46989094 0.41986724 0.62731152\n",
      " 0.89284021 0.89284021 0.89284021 0.89284021 0.89284021 0.89284021\n",
      " 0.89284021 0.78615458 0.89284021 0.56282598 0.62375533 0.61711712\n",
      " 0.53651019 0.55405405 0.53674727 0.35941204 0.62612613 0.36367947\n",
      " 0.89284021 0.89284021 0.89284021 0.89284021 0.89284021 0.89284021\n",
      " 0.89284021 0.86605026 0.62968231 0.69748696 0.53603604 0.52702703\n",
      " 0.28733997 0.59056425 0.61711712 0.36842105 0.34115695 0.36842105\n",
      " 0.89284021 0.89284021 0.89284021 0.89284021 0.89284021 0.89284021\n",
      " 0.62968231 0.84779516 0.89284021 0.89284021 0.6206733  0.63157895\n",
      " 0.62968231 0.54860123 0.89284021 0.36842105 0.32076814 0.36842105\n",
      " 0.89284021 0.89284021 0.89284021 0.89284021 0.89284021 0.89284021\n",
      " 0.89284021 0.89284021 0.89284021 0.63157895 0.89284021 0.63157895\n",
      " 0.63157895 0.89284021 0.62968231 0.63157895 0.53247985 0.10715979\n",
      " 0.89284021 0.89284021 0.89284021 0.89284021 0.89284021 0.89284021\n",
      " 0.89284021 0.89284021 0.89284021 0.89284021 0.89284021 0.89284021\n",
      " 0.89284021 0.89284021 0.89284021 0.89284021 0.87482219 0.89284021\n",
      " 0.52702703 0.62968231 0.62968231 0.52702703 0.62968231 0.62968231\n",
      " 0.52702703 0.58368895 0.62968231 0.52702703 0.52655287 0.62968231\n",
      " 0.52702703 0.61569464 0.49099099 0.52702703 0.75011854 0.49099099\n",
      " 0.89284021 0.89284021 0.89284021 0.89284021 0.89284021 0.89284021\n",
      " 0.89284021 0.89284021 0.89284021 0.89284021 0.89284021 0.89284021\n",
      " 0.89284021 0.89284021 0.89284021 0.89284021 0.83878615 0.89284021\n",
      " 0.52702703 0.10715979 0.10715979 0.52702703 0.10715979 0.10715979\n",
      " 0.52702703 0.48269322 0.10715979 0.52702703 0.56211475 0.14295875\n",
      " 0.52702703 0.59815078 0.49099099 0.52702703 0.78544334 0.48198198\n",
      " 0.89284021 0.89284021 0.89284021 0.89284021 0.89284021 0.89284021\n",
      " 0.89284021 0.89284021 0.89284021 0.89284021 0.89284021 0.89284021\n",
      " 0.89284021 0.89284021 0.89284021 0.89284021 0.79421527 0.89284021\n",
      " 0.52702703 0.20365102 0.11593172 0.52702703 0.25770507 0.11593172\n",
      " 0.52702703 0.53627312 0.11593172 0.52702703 0.58013276 0.25011854\n",
      " 0.52702703 0.64295875 0.49099099 0.52702703 0.8029872  0.48198198\n",
      " 0.89284021 0.89284021 0.89284021 0.89284021 0.89284021 0.89284021\n",
      " 0.89284021 0.89284021 0.89284021 0.89284021 0.89284021 0.89284021\n",
      " 0.89284021 0.89284021 0.89284021 0.89284021 0.78544334 0.89284021\n",
      " 0.52702703 0.37031769 0.37031769 0.52702703 0.45590327 0.37031769\n",
      " 0.52702703 0.55381697 0.37031769 0.52702703 0.58890469 0.35798957\n",
      " 0.52702703 0.6697487  0.49099099 0.52702703 0.76789948 0.48221906\n",
      " 0.89284021 0.89284021 0.89284021 0.89284021 0.89284021 0.89284021\n",
      " 0.89284021 0.89284021 0.89284021 0.89284021 0.89284021 0.89284021\n",
      " 0.89284021 0.84779516 0.89284021 0.89284021 0.74134661 0.89284021\n",
      " 0.52702703 0.1161688  0.10715979 0.52702703 0.51849218 0.10715979\n",
      " 0.52702703 0.50877193 0.10715979 0.52702703 0.61593172 0.44665718\n",
      " 0.52702703 0.67875771 0.49099099 0.52702703 0.75889047 0.45566619\n",
      " 0.89284021 0.89284021 0.89284021 0.89284021 0.89284021 0.89284021\n",
      " 0.89284021 0.89284021 0.89284021 0.89284021 0.89284021 0.89284021\n",
      " 0.89284021 0.8029872  0.89284021 0.89284021 0.74134661 0.8838312\n",
      " 0.52702703 0.57302039 0.62968231 0.52702703 0.54504505 0.62968231\n",
      " 0.52702703 0.49976292 0.62968231 0.52702703 0.62494073 0.46491228\n",
      " 0.52702703 0.70554765 0.49099099 0.52702703 0.74134661 0.42816501\n",
      " 0.89284021 0.89284021 0.89284021 0.89284021 0.89284021 0.89284021\n",
      " 0.89284021 0.89284021 0.89284021 0.89284021 0.89284021 0.89284021\n",
      " 0.89284021 0.73186344 0.89284021 0.89284021 0.74134661 0.85680417\n",
      " 0.52702703 0.49170223 0.1161688  0.52702703 0.52702703 0.1161688\n",
      " 0.52702703 0.53603604 0.1161688  0.52702703 0.5979137  0.50900901\n",
      " 0.52702703 0.71455666 0.49099099 0.52702703 0.74134661 0.41062115\n",
      " 0.89284021 0.89284021 0.89284021 0.89284021 0.89284021 0.89284021\n",
      " 0.89284021 0.89284021 0.89284021 0.89284021 0.89284021 0.89284021\n",
      " 0.89284021 0.72261735 0.89284021 0.89284021 0.74134661 0.83902323\n",
      " 0.52702703 0.50948317 0.62968231 0.52702703 0.52678995 0.62968231\n",
      " 0.52702703 0.53603604 0.6116643  0.52702703 0.60692271 0.49099099\n",
      " 0.52702703 0.72309151 0.49099099 0.52702703 0.74134661 0.44689426\n",
      " 0.89284021 0.89284021 0.89284021 0.89284021 0.89284021 0.89284021\n",
      " 0.89284021 0.89284021 0.89284021 0.89284021 0.88406828 0.89284021\n",
      " 0.89284021 0.70507349 0.89284021 0.89284021 0.74134661 0.80346136\n",
      " 0.52702703 0.54504505 0.10715979 0.52702703 0.52678995 0.10715979\n",
      " 0.52702703 0.58013276 0.16050261 0.52702703 0.58937885 0.49099099\n",
      " 0.52702703 0.72309151 0.48198198 0.52702703 0.74134661 0.41062115\n",
      " 0.89284021 0.89284021 0.89284021 0.89284021 0.89284021 0.89284021\n",
      " 0.89284021 0.89284021 0.89284021 0.89284021 0.88406828 0.89284021\n",
      " 0.89284021 0.69677572 0.89284021 0.89284021 0.74134661 0.79468943\n",
      " 0.52702703 0.52702703 0.62968231 0.52702703 0.50877193 0.62968231\n",
      " 0.52702703 0.58914177 0.25889047 0.52702703 0.63418682 0.49099099\n",
      " 0.52702703 0.74988146 0.47321005 0.52702703 0.74134661 0.45542911]\n",
      "  warnings.warn(\n"
     ]
    }
   ],
   "source": [
    "best_model = gridsearch.fit(X_train_std_pca, y_train)"
   ]
  },
  {
   "cell_type": "code",
   "execution_count": 45,
   "id": "eb55e9e9-751a-4b3d-98f7-51e2386e0e41",
   "metadata": {},
   "outputs": [
    {
     "name": "stdout",
     "output_type": "stream",
     "text": [
      "LogisticRegression(multi_class='ovr', penalty='l1', solver='saga')\n"
     ]
    }
   ],
   "source": [
    "print(best_model.best_estimator_.get_params()[\"classifier\"])"
   ]
  },
  {
   "cell_type": "code",
   "execution_count": 46,
   "id": "fb356d07-c386-4615-be1d-8f261df46fc0",
   "metadata": {},
   "outputs": [
    {
     "data": {
      "text/plain": [
       "{'classifier': LogisticRegression(multi_class='ovr', penalty='l1', solver='saga'),\n",
       " 'classifier__C': 1.0,\n",
       " 'classifier__class_weight': None,\n",
       " 'classifier__multi_class': 'ovr',\n",
       " 'classifier__penalty': 'l1',\n",
       " 'classifier__solver': 'saga'}"
      ]
     },
     "execution_count": 46,
     "metadata": {},
     "output_type": "execute_result"
    }
   ],
   "source": [
    "gridsearch.best_params_"
   ]
  },
  {
   "cell_type": "code",
   "execution_count": 47,
   "id": "e1afdb35-b734-46f6-b8da-37b35770860b",
   "metadata": {},
   "outputs": [
    {
     "data": {
      "text/plain": [
       "0.8928402086296824"
      ]
     },
     "execution_count": 47,
     "metadata": {},
     "output_type": "execute_result"
    }
   ],
   "source": [
    "gridsearch.best_score_"
   ]
  },
  {
   "cell_type": "code",
   "execution_count": null,
   "id": "0deb1a8a-6059-4988-8225-8f0e2acdd7ae",
   "metadata": {},
   "outputs": [],
   "source": [
    "# gridsearch.cv_results_"
   ]
  },
  {
   "cell_type": "code",
   "execution_count": 48,
   "id": "53dab725-f819-495e-8e74-8e69241a3da7",
   "metadata": {},
   "outputs": [],
   "source": [
    "model = LogisticRegression(C=1, class_weight=None, multi_class='ovr', penalty='l1', solver='saga')"
   ]
  },
  {
   "cell_type": "code",
   "execution_count": 51,
   "id": "22565c23-5f6b-474f-b102-863bbb67086e",
   "metadata": {},
   "outputs": [
    {
     "data": {
      "text/plain": [
       "LogisticRegression(C=1, multi_class='ovr', penalty='l1', solver='saga')"
      ]
     },
     "execution_count": 51,
     "metadata": {},
     "output_type": "execute_result"
    }
   ],
   "source": [
    "model.fit(X_train_std_pca, y_train)"
   ]
  },
  {
   "cell_type": "code",
   "execution_count": 58,
   "id": "dadf342c-47f6-43b7-aa10-758dbd0f1f0f",
   "metadata": {},
   "outputs": [],
   "source": [
    "preds = model.predict(X_test_std_pca)"
   ]
  },
  {
   "cell_type": "code",
   "execution_count": 60,
   "id": "8312dde6-7fb8-485e-96aa-5cd92fa51537",
   "metadata": {},
   "outputs": [
    {
     "name": "stdout",
     "output_type": "stream",
     "text": [
      "              precision    recall  f1-score   support\n",
      "\n",
      "          -1       0.00      0.00      0.00       363\n",
      "           1       0.90      1.00      0.95      3275\n",
      "\n",
      "    accuracy                           0.90      3638\n",
      "   macro avg       0.45      0.50      0.47      3638\n",
      "weighted avg       0.81      0.90      0.85      3638\n",
      "\n"
     ]
    },
    {
     "name": "stderr",
     "output_type": "stream",
     "text": [
      "C:\\Users\\DJaskulski\\miniconda3\\envs\\cdv_data_prep\\lib\\site-packages\\sklearn\\metrics\\_classification.py:1248: UndefinedMetricWarning: Precision and F-score are ill-defined and being set to 0.0 in labels with no predicted samples. Use `zero_division` parameter to control this behavior.\n",
      "  _warn_prf(average, modifier, msg_start, len(result))\n",
      "C:\\Users\\DJaskulski\\miniconda3\\envs\\cdv_data_prep\\lib\\site-packages\\sklearn\\metrics\\_classification.py:1248: UndefinedMetricWarning: Precision and F-score are ill-defined and being set to 0.0 in labels with no predicted samples. Use `zero_division` parameter to control this behavior.\n",
      "  _warn_prf(average, modifier, msg_start, len(result))\n",
      "C:\\Users\\DJaskulski\\miniconda3\\envs\\cdv_data_prep\\lib\\site-packages\\sklearn\\metrics\\_classification.py:1248: UndefinedMetricWarning: Precision and F-score are ill-defined and being set to 0.0 in labels with no predicted samples. Use `zero_division` parameter to control this behavior.\n",
      "  _warn_prf(average, modifier, msg_start, len(result))\n"
     ]
    }
   ],
   "source": [
    "print(classification_report(y_test, preds))"
   ]
  },
  {
   "cell_type": "code",
   "execution_count": null,
   "id": "f1c94710-0bdf-45bb-81df-323cc3d3a8c4",
   "metadata": {},
   "outputs": [],
   "source": []
  }
 ],
 "metadata": {
  "kernelspec": {
   "display_name": "Python [conda env:cdv_data_prep] *",
   "language": "python",
   "name": "conda-env-cdv_data_prep-py"
  },
  "language_info": {
   "codemirror_mode": {
    "name": "ipython",
    "version": 3
   },
   "file_extension": ".py",
   "mimetype": "text/x-python",
   "name": "python",
   "nbconvert_exporter": "python",
   "pygments_lexer": "ipython3",
   "version": "3.8.5"
  }
 },
 "nbformat": 4,
 "nbformat_minor": 5
}
