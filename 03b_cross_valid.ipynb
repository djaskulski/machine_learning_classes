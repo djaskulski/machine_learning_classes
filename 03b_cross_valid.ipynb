{
 "cells": [
  {
   "cell_type": "code",
   "execution_count": 133,
   "id": "a20aef33-655c-441f-ae84-ba21cfb3ea64",
   "metadata": {},
   "outputs": [],
   "source": [
    "# 1. Utwórz KNeighborsClassifier:\n",
    "# datset wine,,\n",
    "# wykonaj podział tzw. hold out, wykorzystując test_train_split\n",
    "# warianty:\n",
    "# random_state=42\n",
    "# random_state=42, stratify=y\n",
    "# random_state=224, stratify=y\n",
    "# random_state=224\n",
    "# porównaj wyniki score dla każdego wariantu\n",
    "\n",
    "# 2. Zaimplementuj cross validation dla klasyfikacji:\n",
    "# wykorzystując StratifiedKFold dla datsetu wine\n",
    "# używając np.bincount wyświetl liczebność poszczególnych klas oraz rozmiar (shape)\n",
    "# wyznacz score dla poszczególnych foldów oraz całości\n",
    "\n",
    "# Rozwiązanie prześlij jako printscreen (jpg, pdf).\n",
    "# Nazwa pliku (bez polskich znaków):\n",
    "\n",
    "# Nazwisko_Imie_03b_niestacj.jpg"
   ]
  },
  {
   "cell_type": "code",
   "execution_count": 134,
   "id": "7912ae98-04ba-42f9-b80d-f1a4a44d4b8c",
   "metadata": {},
   "outputs": [],
   "source": [
    "import numpy as np\n",
    "import pandas as pd\n",
    "\n",
    "from sklearn.datasets import load_wine\n",
    "from sklearn.model_selection import train_test_split\n",
    "from sklearn.neighbors import KNeighborsClassifier\n",
    "from sklearn.preprocessing import StandardScaler\n",
    "from sklearn.model_selection import StratifiedKFold, KFold\n",
    "\n",
    "from sklearn.linear_model import LassoCV"
   ]
  },
  {
   "cell_type": "code",
   "execution_count": 135,
   "id": "a051b33d-444f-4f26-879a-d0596badfc86",
   "metadata": {},
   "outputs": [
    {
     "data": {
      "text/plain": [
       "['DESCR', 'data', 'feature_names', 'frame', 'target', 'target_names']"
      ]
     },
     "execution_count": 135,
     "metadata": {},
     "output_type": "execute_result"
    }
   ],
   "source": [
    "# load and return the diabetes dataset (classification).\n",
    "wine = load_wine()\n",
    "dir(wine)"
   ]
  },
  {
   "cell_type": "code",
   "execution_count": 136,
   "id": "cb321411-ff7d-4e97-b011-cb27abda1c63",
   "metadata": {},
   "outputs": [],
   "source": [
    "# data, target assignments\n",
    "X, y = wine.data, wine.target"
   ]
  },
  {
   "cell_type": "markdown",
   "id": "9184b2ac-dafc-49f3-8f4d-0756adef38f0",
   "metadata": {},
   "source": [
    "# 1"
   ]
  },
  {
   "cell_type": "code",
   "execution_count": 137,
   "id": "6b7f53be-235a-4e88-b274-ae69ddb6e59f",
   "metadata": {},
   "outputs": [],
   "source": [
    "def test_random_and_stratify():\n",
    "    \"\"\" \"\"\"\n",
    "    \n",
    "    list_random = [42, 42, 224, 224]\n",
    "    list_stratify = [None, y, None, y]\n",
    "    list_label_stratify = [\"No\", \"Target\", \"No\", \"Target\"]\n",
    "    \n",
    "    model = KNeighborsClassifier(n_neighbors=3)\n",
    "    \n",
    "    for r, s, l in zip(list_random, list_stratify, list_label_stratify):\n",
    "        X_train, X_test, y_train, y_test = train_test_split(X, y, test_size=0.2, random_state=r, stratify=s)\n",
    "        \n",
    "        # standar scaling\n",
    "        scaler = StandardScaler().fit(X_train)\n",
    "        X_train_std = scaler.transform(X_train)\n",
    "        X_test_std = scaler.transform(X_test)\n",
    "        \n",
    "        # model defining\n",
    "        model = KNeighborsClassifier(n_neighbors=3)\n",
    "        model.fit(X_train_std, y_train)\n",
    "        \n",
    "        print(model.score(X_test_std, y_test), f\"random={r} and stratify={l}\")"
   ]
  },
  {
   "cell_type": "code",
   "execution_count": 138,
   "id": "aa8e99d3-7f8a-434a-957e-41547c8ad114",
   "metadata": {},
   "outputs": [
    {
     "name": "stdout",
     "output_type": "stream",
     "text": [
      "0.9444444444444444 random=42 and stratify=No\n",
      "0.9722222222222222 random=42 and stratify=Target\n",
      "1.0 random=224 and stratify=No\n",
      "0.9444444444444444 random=224 and stratify=Target\n",
      "Wall time: 26 ms\n"
     ]
    }
   ],
   "source": [
    "%time test_random_and_stratify()"
   ]
  },
  {
   "cell_type": "markdown",
   "id": "b268eecf-75e6-4e6e-9db6-fac5bfc6c716",
   "metadata": {},
   "source": [
    "# 2"
   ]
  },
  {
   "cell_type": "code",
   "execution_count": 139,
   "id": "44a63c10-ad14-4f9f-9310-e54b897030c6",
   "metadata": {},
   "outputs": [],
   "source": [
    "def test_fold_score_skf():\n",
    "    \n",
    "    model = KNeighborsClassifier(n_neighbors=3)\n",
    "    skf = StratifiedKFold(n_splits=10)\n",
    "    mean_list = []\n",
    "    \n",
    "    for k, (train, test) in enumerate(skf.split(X, y)):\n",
    "        model.fit(X[train], y[train])\n",
    "        score = round(model.score(X[test], y[test]), 5)\n",
    "        mean_list.append(score)\n",
    "        \n",
    "        # bin and shape\n",
    "        train_bin = np.bincount(y[train])\n",
    "        test_bin = np.bincount(y[test])\n",
    "        train_shape = np.shape(y[train])\n",
    "        test_shape = np.shape(y[test])\n",
    "        \n",
    "        # score for every fold\n",
    "        print(f\"\"\"[fold {k}], score: {score}, \n",
    "train_bin: {train_bin}, test_bin: {test_bin}, \n",
    "train_shape: {train_shape}, test_shape bin: {test_shape}, \\n\"\"\")\n",
    "    \n",
    "    # mean score    \n",
    "    print(\"Mean score: \", np.mean(mean_list))"
   ]
  },
  {
   "cell_type": "code",
   "execution_count": 140,
   "id": "1a880644-b0a9-401a-bc6b-2d5ad4852fd5",
   "metadata": {},
   "outputs": [
    {
     "name": "stdout",
     "output_type": "stream",
     "text": [
      "[fold 0], score: 0.66667, \n",
      "train_bin: [53 64 43], test_bin: [6 7 5], \n",
      "train_shape: (160,), test_shape bin: (18,), \n",
      "\n",
      "[fold 1], score: 0.61111, \n",
      "train_bin: [53 64 43], test_bin: [6 7 5], \n",
      "train_shape: (160,), test_shape bin: (18,), \n",
      "\n",
      "[fold 2], score: 0.66667, \n",
      "train_bin: [53 64 43], test_bin: [6 7 5], \n",
      "train_shape: (160,), test_shape bin: (18,), \n",
      "\n",
      "[fold 3], score: 0.66667, \n",
      "train_bin: [53 64 43], test_bin: [6 7 5], \n",
      "train_shape: (160,), test_shape bin: (18,), \n",
      "\n",
      "[fold 4], score: 0.66667, \n",
      "train_bin: [53 64 43], test_bin: [6 7 5], \n",
      "train_shape: (160,), test_shape bin: (18,), \n",
      "\n",
      "[fold 5], score: 0.66667, \n",
      "train_bin: [53 64 43], test_bin: [6 7 5], \n",
      "train_shape: (160,), test_shape bin: (18,), \n",
      "\n",
      "[fold 6], score: 0.72222, \n",
      "train_bin: [53 64 43], test_bin: [6 7 5], \n",
      "train_shape: (160,), test_shape bin: (18,), \n",
      "\n",
      "[fold 7], score: 0.77778, \n",
      "train_bin: [53 64 43], test_bin: [6 7 5], \n",
      "train_shape: (160,), test_shape bin: (18,), \n",
      "\n",
      "[fold 8], score: 0.88235, \n",
      "train_bin: [53 64 44], test_bin: [6 7 4], \n",
      "train_shape: (161,), test_shape bin: (17,), \n",
      "\n",
      "[fold 9], score: 0.88235, \n",
      "train_bin: [54 63 44], test_bin: [5 8 4], \n",
      "train_shape: (161,), test_shape bin: (17,), \n",
      "\n",
      "Mean score:  0.7209159999999999\n",
      "Wall time: 37 ms\n"
     ]
    }
   ],
   "source": [
    "%time test_fold_score_skf()"
   ]
  }
 ],
 "metadata": {
  "kernelspec": {
   "display_name": "Python [conda env:cdv_data_prep] *",
   "language": "python",
   "name": "conda-env-cdv_data_prep-py"
  },
  "language_info": {
   "codemirror_mode": {
    "name": "ipython",
    "version": 3
   },
   "file_extension": ".py",
   "mimetype": "text/x-python",
   "name": "python",
   "nbconvert_exporter": "python",
   "pygments_lexer": "ipython3",
   "version": "3.8.5"
  }
 },
 "nbformat": 4,
 "nbformat_minor": 5
}
