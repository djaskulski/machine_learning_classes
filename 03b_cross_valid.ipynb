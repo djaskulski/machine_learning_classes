{
 "cells": [
  {
   "cell_type": "code",
   "execution_count": 1,
   "id": "a20aef33-655c-441f-ae84-ba21cfb3ea64",
   "metadata": {},
   "outputs": [],
   "source": [
    "# 1. Utwórz KNeighborsClassifier:\n",
    "# datset wine,,\n",
    "# wykonaj podział tzw. hold out, wykorzystując test_train_split\n",
    "# warianty:\n",
    "# random_state=42\n",
    "# random_state=42, stratify=y\n",
    "# random_state=224, stratify=y\n",
    "# random_state=224\n",
    "# porównaj wyniki score dla każdego wariantu\n",
    "# 2. Zaimplementuj cross validation dla klasyfikacji:\n",
    "# wykorzystując StratifiedKFold dla datsetu wine\n",
    "# używając np.bincount wyświetl liczebność poszczególnych klas oraz rozmiar (shape)\n",
    "# wyznacz score dla poszczególnych foldów oraz całości\n",
    "\n",
    "# Rozwiązanie prześlij jako printscreen (jpg, pdf).\n",
    "# Nazwa pliku (bez polskich znaków):\n",
    "\n",
    "# Nazwisko_Imie_03b_niestacj.jpg"
   ]
  },
  {
   "cell_type": "code",
   "execution_count": null,
   "id": "7912ae98-04ba-42f9-b80d-f1a4a44d4b8c",
   "metadata": {},
   "outputs": [],
   "source": []
  }
 ],
 "metadata": {
  "kernelspec": {
   "display_name": "Python [conda env:cdv_data_prep] *",
   "language": "python",
   "name": "conda-env-cdv_data_prep-py"
  },
  "language_info": {
   "codemirror_mode": {
    "name": "ipython",
    "version": 3
   },
   "file_extension": ".py",
   "mimetype": "text/x-python",
   "name": "python",
   "nbconvert_exporter": "python",
   "pygments_lexer": "ipython3",
   "version": "3.8.5"
  }
 },
 "nbformat": 4,
 "nbformat_minor": 5
}
