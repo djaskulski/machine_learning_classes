{
 "cells": [
  {
   "cell_type": "code",
   "execution_count": 1,
   "id": "2df33943-2629-4bad-a7ba-dc98f41eabc9",
   "metadata": {},
   "outputs": [],
   "source": [
    "# 04_grid_random_search (n)\n",
    "# 1. Zaimplementuj GridSearchCV oraz RandomizedSearchCV dla datasetu wine. Uwzględnij poniższe parametry:\n",
    "# - estymator: LogisticRegression(solver=\"liblinear\")\n",
    "#  - parametr C:\n",
    "#     - min 1\n",
    "#     - max 10 000\n",
    "#     - liczba wystąpień 1 000\n",
    "#  - regularyzacja l1 oraz l2\n",
    "# 2. Zaimplementuj GridSearchCV (jeden na wszystkie modele) w celu znalezienia najlepszego algorytmu oraz hyperparametrów dla datasetu z pkt.1:\n",
    "#  - wykorzystaj estymatory:\n",
    "#     - RandomForestClassifier\n",
    "#     - KNeighborsClassifier\n",
    "#     - LogisticRegression\n",
    "# 3. Porównaj wyniki korzystając z  hyperopt-sklearn.\n",
    "\n",
    "# Rozwiązanie prześlij jako printscreen (jpg, pdf).\n",
    "# Nazwa pliku (bez polskich znaków):\n",
    "\n",
    "# Nazwisko_Imie_04_stacj.jpg"
   ]
  },
  {
   "cell_type": "code",
   "execution_count": null,
   "id": "8c534ea4-ad63-4b04-add8-4d36243e5291",
   "metadata": {},
   "outputs": [],
   "source": []
  }
 ],
 "metadata": {
  "kernelspec": {
   "display_name": "Python [conda env:cdv_data_prep] *",
   "language": "python",
   "name": "conda-env-cdv_data_prep-py"
  },
  "language_info": {
   "codemirror_mode": {
    "name": "ipython",
    "version": 3
   },
   "file_extension": ".py",
   "mimetype": "text/x-python",
   "name": "python",
   "nbconvert_exporter": "python",
   "pygments_lexer": "ipython3",
   "version": "3.8.5"
  }
 },
 "nbformat": 4,
 "nbformat_minor": 5
}
