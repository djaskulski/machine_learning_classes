{
 "cells": [
  {
   "cell_type": "code",
   "execution_count": 194,
   "id": "2df33943-2629-4bad-a7ba-dc98f41eabc9",
   "metadata": {},
   "outputs": [],
   "source": [
    "# 04_grid_random_search (n)\n",
    "\n",
    "# 1. Zaimplementuj GridSearchCV oraz RandomizedSearchCV dla datasetu wine. Uwzględnij poniższe parametry:\n",
    "# - estymator: LogisticRegression(solver=\"liblinear\")\n",
    "#  - parametr C:\n",
    "#     - min 1\n",
    "#     - max 10 000\n",
    "#     - liczba wystąpień 1 000\n",
    "#  - regularyzacja l1 oraz l2\n",
    "\n",
    "# 2. Zaimplementuj GridSearchCV (jeden na wszystkie modele) w celu znalezienia najlepszego algorytmu oraz \n",
    "# hyperparametrów dla datasetu z pkt.1:\n",
    "#  - wykorzystaj estymatory:\n",
    "#     - RandomForestClassifier\n",
    "#     - KNeighborsClassifier\n",
    "#     - LogisticRegression\n",
    "\n",
    "# 3. Porównaj wyniki korzystając z  hyperopt-sklearn.\n",
    "\n",
    "# Rozwiązanie prześlij jako printscreen (jpg, pdf).\n",
    "# Nazwa pliku (bez polskich znaków):\n",
    "\n",
    "# Nazwisko_Imie_04_stacj.jpg"
   ]
  },
  {
   "cell_type": "markdown",
   "id": "a8a9247e-dfff-4e70-9313-5426e426bbd1",
   "metadata": {},
   "source": [
    "# 1"
   ]
  },
  {
   "cell_type": "markdown",
   "id": "056c364a-727e-411c-af1a-2e743a9ae344",
   "metadata": {},
   "source": [
    "## Grid Search"
   ]
  },
  {
   "cell_type": "code",
   "execution_count": 1,
   "id": "cf4730ab-77eb-4e14-b725-7374901d9af0",
   "metadata": {},
   "outputs": [],
   "source": [
    "import numpy as np\n",
    "from sklearn.datasets import load_wine\n",
    "from sklearn.linear_model import LogisticRegression\n",
    "from sklearn.model_selection import GridSearchCV"
   ]
  },
  {
   "cell_type": "code",
   "execution_count": 4,
   "id": "2f71a3aa-0c10-42ce-8851-c428bbfb1549",
   "metadata": {},
   "outputs": [],
   "source": [
    "wine = load_wine()\n",
    "features = wine.data\n",
    "target = wine.target"
   ]
  },
  {
   "cell_type": "code",
   "execution_count": 5,
   "id": "51325eba-4b5b-40f5-8a26-7f65a7825205",
   "metadata": {},
   "outputs": [],
   "source": [
    "logistic = LogisticRegression(solver=\"liblinear\")"
   ]
  },
  {
   "cell_type": "code",
   "execution_count": 6,
   "id": "e37b3c00-8793-4200-addc-b475499915fe",
   "metadata": {},
   "outputs": [],
   "source": [
    "penalty = [\"l1\", \"l2\"]"
   ]
  },
  {
   "cell_type": "code",
   "execution_count": 7,
   "id": "1c048ca6-de7f-4550-8124-e8dc41c530eb",
   "metadata": {},
   "outputs": [],
   "source": [
    "# https://numpy.org/doc/stable/reference/generated/numpy.logspace.html\n",
    "C = np.logspace(0, 4, 1000)"
   ]
  },
  {
   "cell_type": "code",
   "execution_count": 8,
   "id": "a873715e-60ec-4524-914f-8a585b72e24c",
   "metadata": {},
   "outputs": [],
   "source": [
    "hyperparameters = dict(C=C, penalty=penalty)"
   ]
  },
  {
   "cell_type": "code",
   "execution_count": 9,
   "id": "303d7b92-3302-4480-9c90-7f98bf513e4b",
   "metadata": {},
   "outputs": [],
   "source": [
    "gridsearch = GridSearchCV(logistic, hyperparameters, cv=5, verbose=2, n_jobs=-1)"
   ]
  },
  {
   "cell_type": "code",
   "execution_count": 10,
   "id": "f8050f1e-779c-462b-aab2-7402cc8731af",
   "metadata": {},
   "outputs": [
    {
     "name": "stdout",
     "output_type": "stream",
     "text": [
      "Fitting 5 folds for each of 2000 candidates, totalling 10000 fits\n"
     ]
    }
   ],
   "source": [
    "best_model = gridsearch.fit(features, target)"
   ]
  },
  {
   "cell_type": "code",
   "execution_count": 11,
   "id": "37e6a6b3-c332-4d4a-ae26-f87c0d4df90d",
   "metadata": {},
   "outputs": [
    {
     "name": "stdout",
     "output_type": "stream",
     "text": [
      "l2\n",
      "1.6758078645307677\n"
     ]
    }
   ],
   "source": [
    "print(best_model.best_estimator_.get_params()['penalty'])\n",
    "print(best_model.best_estimator_.get_params()['C'])"
   ]
  },
  {
   "cell_type": "markdown",
   "id": "45721025-15ed-4bd5-9e56-f12abc40762a",
   "metadata": {},
   "source": [
    "## Randomized Search"
   ]
  },
  {
   "cell_type": "code",
   "execution_count": 20,
   "id": "c5c3e2d0-27bc-4d25-abb2-0752a5ad3d9d",
   "metadata": {},
   "outputs": [],
   "source": [
    "from sklearn.model_selection import RandomizedSearchCV"
   ]
  },
  {
   "cell_type": "code",
   "execution_count": 21,
   "id": "993bf6fc-3888-49f1-84fb-171b762b636b",
   "metadata": {},
   "outputs": [],
   "source": [
    "randomizedsearch = RandomizedSearchCV(\n",
    "logistic,\n",
    "hyperparameters,\n",
    "random_state=1,\n",
    "n_iter=1000,\n",
    "cv=5,\n",
    "verbose=0,\n",
    "n_jobs=-1\n",
    ")"
   ]
  },
  {
   "cell_type": "code",
   "execution_count": 22,
   "id": "b00466ab-4bd5-4c17-b774-55f428611a4d",
   "metadata": {},
   "outputs": [],
   "source": [
    "best_random_model = randomizedsearch.fit(features, target)"
   ]
  },
  {
   "cell_type": "code",
   "execution_count": 23,
   "id": "f314bc95-9b64-4b23-b1d1-2b9fcb3b608e",
   "metadata": {},
   "outputs": [
    {
     "name": "stdout",
     "output_type": "stream",
     "text": [
      "l2\n",
      "2.1693835183851844\n"
     ]
    }
   ],
   "source": [
    "print(best_random_model.best_estimator_.get_params()['penalty'])\n",
    "print(best_random_model.best_estimator_.get_params()['C'])"
   ]
  },
  {
   "cell_type": "markdown",
   "id": "14518ea9-9777-45bf-9e7b-d9a8ae660289",
   "metadata": {},
   "source": [
    "# 2"
   ]
  },
  {
   "cell_type": "markdown",
   "id": "f03bfe1a-6759-42e9-9f44-a54f6ad8f9a3",
   "metadata": {},
   "source": [
    "## Pipeline"
   ]
  },
  {
   "cell_type": "code",
   "execution_count": 24,
   "id": "28dbbc7e-22d3-44e2-a710-bf677bf9c02f",
   "metadata": {},
   "outputs": [],
   "source": [
    "from sklearn.ensemble import RandomForestClassifier\n",
    "from sklearn.neighbors import KNeighborsClassifier\n",
    "from sklearn.pipeline import Pipeline"
   ]
  },
  {
   "cell_type": "code",
   "execution_count": 25,
   "id": "5cc7e917-0cad-46e7-861b-95144335a1b1",
   "metadata": {},
   "outputs": [],
   "source": [
    "pipe = Pipeline([(\"classifier\", RandomForestClassifier())])"
   ]
  },
  {
   "cell_type": "code",
   "execution_count": 26,
   "id": "bb53bfd8-a7d7-45a7-9716-dd4ceb2b84bd",
   "metadata": {},
   "outputs": [],
   "source": [
    "search_space = [\n",
    "    {\"classifier\": [logistic],\n",
    "    \"classifier__penalty\": [\"l1\", \"l2\"],\n",
    "    \"classifier__C\": np.logspace(0, 4, 10)},\n",
    "    {\"classifier\": [RandomForestClassifier()],\n",
    "    \"classifier__n_estimators\": [10, 50, 100],\n",
    "    \"classifier__max_features\": [1, 2, 3]},\n",
    "    {\"classifier\": [KNeighborsClassifier()],\n",
    "    \"classifier__n_neighbors\": range(1, 10, 1),\n",
    "    \"classifier__leaf_size\": [30, 60, 90]}\n",
    "]"
   ]
  },
  {
   "cell_type": "code",
   "execution_count": 27,
   "id": "1ef1a943-cc10-450d-9b97-775e76d844f5",
   "metadata": {},
   "outputs": [],
   "source": [
    "gridsearch = GridSearchCV(pipe, search_space, cv=5, verbose=1, n_jobs=-1)"
   ]
  },
  {
   "cell_type": "code",
   "execution_count": 28,
   "id": "2e5e2b88-88a0-4554-b99f-22e8f36a8be9",
   "metadata": {},
   "outputs": [
    {
     "name": "stdout",
     "output_type": "stream",
     "text": [
      "Fitting 5 folds for each of 56 candidates, totalling 280 fits\n"
     ]
    }
   ],
   "source": [
    "best_model = gridsearch.fit(features, target)"
   ]
  },
  {
   "cell_type": "code",
   "execution_count": 29,
   "id": "2119a13d-d035-40ba-8639-af07b11d4c69",
   "metadata": {},
   "outputs": [
    {
     "name": "stdout",
     "output_type": "stream",
     "text": [
      "RandomForestClassifier(max_features=1, n_estimators=50)\n"
     ]
    }
   ],
   "source": [
    "print(best_model.best_estimator_.get_params()[\"classifier\"])"
   ]
  },
  {
   "cell_type": "markdown",
   "id": "b4ed734d-497e-4d47-b9cd-ed0cfc20ab7e",
   "metadata": {},
   "source": [
    "# 3"
   ]
  },
  {
   "cell_type": "markdown",
   "id": "1238959f-8053-486b-b7cd-c9deebacc96c",
   "metadata": {},
   "source": [
    "## Hyperopt"
   ]
  },
  {
   "cell_type": "code",
   "execution_count": 30,
   "id": "a536e132-77ac-4cbc-b7aa-c3915d26fee5",
   "metadata": {},
   "outputs": [
    {
     "name": "stdout",
     "output_type": "stream",
     "text": [
      "WARN: OMP_NUM_THREADS=None =>\n",
      "... If you are using openblas if you are using openblas set OMP_NUM_THREADS=1 or risk subprocess calls hanging indefinitely\n"
     ]
    }
   ],
   "source": [
    "from sklearn.model_selection import train_test_split\n",
    "from hpsklearn import HyperoptEstimator\n",
    "from hpsklearn import any_classifier\n",
    "from hpsklearn import any_preprocessing\n",
    "from hyperopt import tpe"
   ]
  },
  {
   "cell_type": "code",
   "execution_count": 31,
   "id": "9e6fa6d0-5c28-45ad-ba28-85b4269c10bc",
   "metadata": {},
   "outputs": [],
   "source": [
    "X_train, X_test, y_train, y_test = train_test_split(features, target, test_size=0.33, random_state=42)"
   ]
  },
  {
   "cell_type": "code",
   "execution_count": 32,
   "id": "e47a4055-7eee-4079-8ee7-406a3882b358",
   "metadata": {},
   "outputs": [],
   "source": [
    "model = HyperoptEstimator(\n",
    "    classifier=any_classifier(\"cla\"),\n",
    "    preprocessing=any_preprocessing(\"pre\"),\n",
    "    algo=tpe.suggest,\n",
    "    max_evals=20,\n",
    "    trial_timeout=30,\n",
    "    n_jobs=-1\n",
    ")"
   ]
  },
  {
   "cell_type": "code",
   "execution_count": 33,
   "id": "b1312721-6036-4e38-a5c4-cdb0f4f11b7d",
   "metadata": {},
   "outputs": [
    {
     "name": "stdout",
     "output_type": "stream",
     "text": [
      "100%|█████████████████████████████████████| 1/1 [00:01<00:00,  1.46s/trial, best loss: 0.125]\n",
      "100%|███████████████████████| 2/2 [00:02<00:00,  2.16s/trial, best loss: 0.04166666666666663]\n",
      "100%|███████████████████████| 3/3 [00:01<00:00,  1.41s/trial, best loss: 0.04166666666666663]\n",
      "100%|███████████████████████████████████████| 4/4 [00:01<00:00,  1.43s/trial, best loss: 0.0]\n",
      "100%|███████████████████████████████████████| 5/5 [00:01<00:00,  1.44s/trial, best loss: 0.0]\n",
      "100%|███████████████████████████████████████| 6/6 [00:01<00:00,  1.41s/trial, best loss: 0.0]\n",
      "100%|███████████████████████████████████████| 7/7 [00:02<00:00,  2.58s/trial, best loss: 0.0]\n",
      "100%|███████████████████████████████████████| 8/8 [00:01<00:00,  1.46s/trial, best loss: 0.0]\n",
      "100%|███████████████████████████████████████| 9/9 [00:01<00:00,  1.47s/trial, best loss: 0.0]\n",
      "100%|█████████████████████████████████████| 10/10 [00:01<00:00,  1.99s/trial, best loss: 0.0]\n",
      "100%|█████████████████████████████████████| 11/11 [00:01<00:00,  1.41s/trial, best loss: 0.0]\n",
      "100%|█████████████████████████████████████| 12/12 [00:03<00:00,  3.78s/trial, best loss: 0.0]\n",
      "100%|█████████████████████████████████████| 13/13 [00:01<00:00,  1.45s/trial, best loss: 0.0]\n",
      "100%|█████████████████████████████████████| 14/14 [00:08<00:00,  8.37s/trial, best loss: 0.0]\n",
      "100%|█████████████████████████████████████| 15/15 [00:01<00:00,  1.46s/trial, best loss: 0.0]\n",
      "100%|█████████████████████████████████████| 16/16 [00:01<00:00,  1.78s/trial, best loss: 0.0]\n",
      "100%|█████████████████████████████████████| 17/17 [00:01<00:00,  1.46s/trial, best loss: 0.0]\n",
      "100%|█████████████████████████████████████| 18/18 [00:02<00:00,  2.14s/trial, best loss: 0.0]\n",
      "100%|█████████████████████████████████████| 19/19 [00:01<00:00,  1.43s/trial, best loss: 0.0]\n",
      "100%|█████████████████████████████████████| 20/20 [00:01<00:00,  1.72s/trial, best loss: 0.0]\n"
     ]
    }
   ],
   "source": [
    "model.fit(X_train, y_train)"
   ]
  },
  {
   "cell_type": "code",
   "execution_count": 34,
   "id": "00f61100-33b5-41be-8e33-d0bd91bb7764",
   "metadata": {},
   "outputs": [
    {
     "name": "stdout",
     "output_type": "stream",
     "text": [
      "Accuracy: 0.949\n"
     ]
    }
   ],
   "source": [
    "acc = model.score(X_test, y_test)\n",
    "print(\"Accuracy: %.3f\" % acc)"
   ]
  },
  {
   "cell_type": "code",
   "execution_count": 35,
   "id": "7c32db24-e6a5-48fc-85d7-bc329598c2a2",
   "metadata": {},
   "outputs": [
    {
     "name": "stdout",
     "output_type": "stream",
     "text": [
      "{'learner': GradientBoostingClassifier(learning_rate=0.022602027695498735, max_depth=4,\n",
      "                           n_estimators=22, random_state=4,\n",
      "                           subsample=0.9548867000480767), 'preprocs': (), 'ex_preprocs': ()}\n"
     ]
    }
   ],
   "source": [
    "print(model.best_model())"
   ]
  }
 ],
 "metadata": {
  "kernelspec": {
   "display_name": "Python [conda env:cdv_data_prep] *",
   "language": "python",
   "name": "conda-env-cdv_data_prep-py"
  },
  "language_info": {
   "codemirror_mode": {
    "name": "ipython",
    "version": 3
   },
   "file_extension": ".py",
   "mimetype": "text/x-python",
   "name": "python",
   "nbconvert_exporter": "python",
   "pygments_lexer": "ipython3",
   "version": "3.8.5"
  }
 },
 "nbformat": 4,
 "nbformat_minor": 5
}
