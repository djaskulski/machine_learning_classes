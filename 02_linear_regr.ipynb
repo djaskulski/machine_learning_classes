{
 "cells": [
  {
   "cell_type": "markdown",
   "id": "cf2de849-13e5-47cb-b6e4-35d72a646b0a",
   "metadata": {},
   "source": [
    "1. Utwórz baseline dla zbioru danych diabetes.\n",
    "\n",
    "2. Utwórz LinearRegression dla ww zbioru.\n",
    "\n",
    "    Podziel dane używając train_test_split\n",
    "\n",
    "    Oblicz R^2 oraz RMSE\n",
    "\n",
    "3. Sprawdź wyniki po zastosowaniu regularyzacji Ridge i Lasso dla standardowych hyperparametrów.\n",
    "4. Sprawdź wpływ parametru alpha na Ridge i Lasso (pamiętaj, żeby zmienić alpha `ridge.alpha = alpha`)\n",
    "5. Wykorzystaj RidgeCV oraz LassoCV do danych z pkt. 4\n",
    "6. Porównaj wyniki (metryki)\n",
    "\n",
    "Rozwiązanie prześlij jako printscreen.\n",
    "\n",
    "Nazwa pliku (bez polskich znaków):\n",
    "\n",
    "Nazwisko_Imie_02_niestacj.jpg"
   ]
  },
  {
   "cell_type": "code",
   "execution_count": 182,
   "id": "0d1a9c3b-4092-4f4a-80f4-82df3e9f0199",
   "metadata": {},
   "outputs": [],
   "source": [
    "from sklearn.datasets import load_diabetes\n",
    "from sklearn.dummy import DummyRegressor\n",
    "from sklearn.model_selection import train_test_split\n",
    "from sklearn.preprocessing import StandardScaler\n",
    "from sklearn.linear_model import LinearRegression\n",
    "from sklearn.metrics import mean_squared_error\n",
    "from sklearn.metrics import r2_score\n",
    "from sklearn.linear_model import Ridge, Lasso\n",
    "import seaborn as sns\n",
    "import matplotlib.pyplot as plt"
   ]
  },
  {
   "cell_type": "code",
   "execution_count": 183,
   "id": "ac9f4f40-57e9-4817-9aff-2bf6df4e424d",
   "metadata": {},
   "outputs": [
    {
     "data": {
      "text/plain": [
       "['DESCR',\n",
       " 'data',\n",
       " 'data_filename',\n",
       " 'feature_names',\n",
       " 'frame',\n",
       " 'target',\n",
       " 'target_filename']"
      ]
     },
     "execution_count": 183,
     "metadata": {},
     "output_type": "execute_result"
    }
   ],
   "source": [
    "# load and return the diabetes dataset (regression).\n",
    "diabetes = load_diabetes()\n",
    "dir(diabetes)"
   ]
  },
  {
   "cell_type": "code",
   "execution_count": 184,
   "id": "578c4c31-4b96-4f80-be62-5c861eaf8a32",
   "metadata": {},
   "outputs": [],
   "source": [
    "X, y = diabetes.data, diabetes.target"
   ]
  },
  {
   "cell_type": "markdown",
   "id": "2f400b6d-b82e-4260-9259-939a82778b02",
   "metadata": {},
   "source": [
    "    strategy{“mean”, “median”, “quantile”, “constant”}, default=”mean”\n",
    "\n",
    "    Strategy to use to generate predictions.\n",
    "        “mean”: always predicts the mean of the training set\n",
    "        “median”: always predicts the median of the training set\n",
    "        “quantile”: always predicts a specified quantile of the training set, provided with the quantile parameter.\n",
    "        “constant”: always predicts a constant value that is provided by the user."
   ]
  },
  {
   "cell_type": "markdown",
   "id": "e6028203-2dbb-47ab-b5d2-4a61b90a8af6",
   "metadata": {},
   "source": [
    "# 1"
   ]
  },
  {
   "cell_type": "code",
   "execution_count": 185,
   "id": "e22b3d0c-f337-4263-a76c-8999e4accb01",
   "metadata": {},
   "outputs": [],
   "source": [
    "# baseline dummy regressor\n",
    "dummy_regr = DummyRegressor(strategy=\"mean\")\n",
    "dummy_regr.fit(X, y)\n",
    "preds = dummy_regr.predict(X)\n",
    "#dummy_regr.score(y, preds)"
   ]
  },
  {
   "cell_type": "code",
   "execution_count": 186,
   "id": "c8376e77-bcbd-461c-a45a-c729109f5f96",
   "metadata": {},
   "outputs": [
    {
     "name": "stdout",
     "output_type": "stream",
     "text": [
      "RMSE for dummy regression 77.00574586945044\n",
      "r2 score for dummy regression 0.0\n"
     ]
    }
   ],
   "source": [
    "# root mean squared error -> squared=Fales means root\n",
    "print(\"RMSE for dummy regression\", mean_squared_error(y, preds, squared=False))\n",
    "# r^2 score\n",
    "print(\"r2 score for dummy regression\", r2_score(y, preds))"
   ]
  },
  {
   "cell_type": "markdown",
   "id": "dcbc3f0d-7511-427a-82d8-f60c565d7914",
   "metadata": {},
   "source": [
    "# 2"
   ]
  },
  {
   "cell_type": "code",
   "execution_count": 187,
   "id": "8b1fbece-1391-41ca-9847-9abd88fb5cd9",
   "metadata": {},
   "outputs": [],
   "source": [
    "# train_test split\n",
    "X_train, X_test, y_train, y_test = train_test_split(X, y, test_size=0.33, random_state=0)"
   ]
  },
  {
   "cell_type": "markdown",
   "id": "a56312a3-1658-420b-a5a7-7c8e2fd8d742",
   "metadata": {},
   "source": [
    "https://scikit-learn.org/stable/modules/generated/sklearn.linear_model.LinearRegression.html?highlight=linear%20regression#sklearn.linear_model.LinearRegression"
   ]
  },
  {
   "cell_type": "code",
   "execution_count": 188,
   "id": "6644206b-e853-4b2c-8d31-1bd8fc51a921",
   "metadata": {},
   "outputs": [],
   "source": [
    "# standar scaling\n",
    "scaler = StandardScaler().fit(X_train)\n",
    "X_train_std = scaler.transform(X_train)\n",
    "X_test_std = scaler.transform(X_test)"
   ]
  },
  {
   "cell_type": "code",
   "execution_count": 189,
   "id": "8a54962c-69f3-48d6-8e26-f4b516bdb62f",
   "metadata": {},
   "outputs": [],
   "source": [
    "# LinearRegression\n",
    "model = LinearRegression()\n",
    "model.fit(X_train_std, y_train)\n",
    "preds = model.predict(X_test_std)\n",
    "#model.score(y_test, preds)"
   ]
  },
  {
   "cell_type": "markdown",
   "id": "8a9bd24a-5a3b-4e36-8915-2844c025911d",
   "metadata": {},
   "source": [
    "    y_true array-like of shape (n_samples,) or (n_samples, n_outputs)\n",
    "        Ground truth (correct) target values.\n",
    "    y_pred array-like of shape (n_samples,) or (n_samples, n_outputs)\n",
    "        Estimated target values."
   ]
  },
  {
   "cell_type": "code",
   "execution_count": 190,
   "id": "e6f7f232-74b4-45b2-ad17-f527e6899dcf",
   "metadata": {},
   "outputs": [
    {
     "name": "stdout",
     "output_type": "stream",
     "text": [
      "RMSE for linear regression 56.06749124913092\n",
      "r2 score for linear regression 0.4033025232246106\n"
     ]
    }
   ],
   "source": [
    "# root mean squared error -> squared=Fales means root\n",
    "print(\"RMSE for linear regression\", mean_squared_error(y_test, preds, squared=False))\n",
    "# r^2 score\n",
    "print(\"r2 score for linear regression\", r2_score(y_test, preds))"
   ]
  },
  {
   "cell_type": "markdown",
   "id": "5cd54bd0-d6e2-4d5f-a144-25dae3610eec",
   "metadata": {},
   "source": [
    "### summary:"
   ]
  },
  {
   "cell_type": "markdown",
   "id": "636bc264-9828-408b-9dc3-bbfc02b7178f",
   "metadata": {},
   "source": [
    "    * RMSE for dummy regression 77.00574586945044\n",
    "    * R2 score for dummy regression 0.0\n",
    "\n",
    "    * RMSE for linear regression 56.06749124913091\n",
    "    * R2 score for linear regression 0.4033025232246107"
   ]
  },
  {
   "cell_type": "markdown",
   "id": "6ae09644-3b80-4b40-af5c-e1c397b8e00a",
   "metadata": {},
   "source": [
    "# 3"
   ]
  },
  {
   "cell_type": "markdown",
   "id": "6f612725-d6a1-4e3a-85e4-617059631fab",
   "metadata": {},
   "source": [
    "https://scikit-learn.org/stable/modules/generated/sklearn.linear_model.Ridge.html"
   ]
  },
  {
   "cell_type": "code",
   "execution_count": 191,
   "id": "85870ad1-8ad8-46a5-8ee4-f1e7f3bf4fa5",
   "metadata": {},
   "outputs": [],
   "source": [
    "clf = Ridge()\n",
    "clf.fit(X_train_std, y_train)\n",
    "preds = clf.predict(X_test_std)"
   ]
  },
  {
   "cell_type": "code",
   "execution_count": 192,
   "id": "e5af657b-6e52-4625-86c5-5c7aa352ab25",
   "metadata": {},
   "outputs": [
    {
     "name": "stdout",
     "output_type": "stream",
     "text": [
      "RMSE for ridge 56.094487836879445\n",
      "r2 score for ridge 0.4027277632830567\n"
     ]
    }
   ],
   "source": [
    "# root mean squared error -> squared=Fales means root\n",
    "print(\"RMSE for ridge\", mean_squared_error(y_test, preds, squared=False))\n",
    "# r^2 score\n",
    "print(\"r2 score for ridge\", r2_score(y_test, preds))"
   ]
  },
  {
   "cell_type": "markdown",
   "id": "14465fa1-ec5a-4285-8545-87a8d98e199e",
   "metadata": {},
   "source": [
    "https://scikit-learn.org/stable/modules/generated/sklearn.linear_model.Lasso.html"
   ]
  },
  {
   "cell_type": "code",
   "execution_count": 193,
   "id": "82896564-5316-4008-86be-b2ddadf2c166",
   "metadata": {},
   "outputs": [],
   "source": [
    "# lasso\n",
    "clf = Lasso()\n",
    "clf.fit(X_train_std, y_train)\n",
    "preds = clf.predict(X_test_std)"
   ]
  },
  {
   "cell_type": "code",
   "execution_count": 194,
   "id": "fda82a0e-04eb-4b3d-8e47-11d75b475e06",
   "metadata": {},
   "outputs": [
    {
     "name": "stdout",
     "output_type": "stream",
     "text": [
      "RMSE for lasso 56.19882881697803\n",
      "r2 score for lasoo 0.40050373260020367\n"
     ]
    }
   ],
   "source": [
    "# root mean squared error -> squared=Fales means root\n",
    "print(\"RMSE for lasso\", mean_squared_error(y_test, preds, squared=False))\n",
    "# r^2 score\n",
    "print(\"r2 score for lasoo\", r2_score(y_test, preds))"
   ]
  },
  {
   "cell_type": "markdown",
   "id": "a28e1a5b-45a2-4af8-a0ac-3d334c4f8d29",
   "metadata": {},
   "source": [
    "### summary:"
   ]
  },
  {
   "cell_type": "markdown",
   "id": "7bfbc342-95c9-4bf8-b831-45d27c0c3a8e",
   "metadata": {},
   "source": [
    "    * RMSE for ridge 56.094487836879445\n",
    "    * R2 score for ridge 0.4027277632830567\n",
    "    * RMSE for dummy lasso 56.19882881697803\n",
    "    * R2 score for dummy lasoo 0.40050373260020367"
   ]
  },
  {
   "cell_type": "markdown",
   "id": "e843422c-56f9-4574-ad29-e64b522b4dec",
   "metadata": {},
   "source": [
    "# 4"
   ]
  },
  {
   "cell_type": "code",
   "execution_count": 195,
   "id": "6e90072e-b0d4-47ed-a3fd-c8bc7ce36181",
   "metadata": {},
   "outputs": [],
   "source": [
    "alpha = list(range(1, 51, 1))\n",
    "score_list_ridge = []\n",
    "score_list_lasso = []"
   ]
  },
  {
   "cell_type": "code",
   "execution_count": 196,
   "id": "cda0c237-fbe8-4250-b1a9-b04bfa25edd2",
   "metadata": {},
   "outputs": [],
   "source": [
    "for i in alpha:\n",
    "    ridge = Ridge(normalize=True)\n",
    "    ridge.set_params(alpha = i)\n",
    "    ridge.fit(X_train_std, y_train)\n",
    "    \n",
    "    preds = ridge.predict(X_test_std)\n",
    "    score = r2_score(y_test, preds)\n",
    "    \n",
    "    score_list_ridge.append(score)"
   ]
  },
  {
   "cell_type": "code",
   "execution_count": 197,
   "id": "533be4fa-2416-47a3-aece-af046353332c",
   "metadata": {},
   "outputs": [],
   "source": [
    "for i in alpha:\n",
    "    lasso = Lasso(normalize=True)\n",
    "    lasso.set_params(alpha = i)\n",
    "    lasso.fit(X_train_std, y_train)\n",
    "    \n",
    "    preds = lasso.predict(X_test_std)\n",
    "    score = r2_score(y_test, preds)\n",
    "    \n",
    "    score_list_lasso.append(score)"
   ]
  },
  {
   "cell_type": "code",
   "execution_count": 201,
   "id": "67d78d6f-e738-454c-afa2-e485079ac3f7",
   "metadata": {},
   "outputs": [
    {
     "data": {
      "image/png": "[encoded data removed]",
      "text/plain": [
       "<Figure size 720x360 with 1 Axes>"
      ]
     },
     "metadata": {
      "needs_background": "light"
     },
     "output_type": "display_data"
    }
   ],
   "source": [
    "plt.figure(figsize=(10,5))\n",
    "sns.lineplot(x=alpha, y=score_list_ridge, label=\"ridge\")\n",
    "sns.lineplot(x=alpha, y=score_list_lasso, label=\"lasso\")\n",
    "plt.title(\"R2 score for alpha range\")\n",
    "plt.legend()\n",
    "plt.grid();"
   ]
  },
  {
   "cell_type": "markdown",
   "id": "75e32278-c261-44a5-b327-837b0d80a333",
   "metadata": {},
   "source": [
    "# 5"
   ]
  },
  {
   "cell_type": "markdown",
   "id": "e6aa22fb-6efc-488c-8dbb-fb446a3afad5",
   "metadata": {},
   "source": [
    "https://scikit-learn.org/stable/modules/generated/sklearn.linear_model.RidgeCV.html"
   ]
  },
  {
   "cell_type": "markdown",
   "id": "6b03e205-3bf2-4b49-92ed-9e626f99e47c",
   "metadata": {},
   "source": [
    "https://scikit-learn.org/stable/modules/generated/sklearn.linear_model.LassoCV.html"
   ]
  },
  {
   "cell_type": "code",
   "execution_count": null,
   "id": "abfcaeca-c5d5-4b46-9cb7-06a9143fad0f",
   "metadata": {},
   "outputs": [],
   "source": []
  }
 ],
 "metadata": {
  "kernelspec": {
   "display_name": "Python [conda env:cdv_data_prep] *",
   "language": "python",
   "name": "conda-env-cdv_data_prep-py"
  },
  "language_info": {
   "codemirror_mode": {
    "name": "ipython",
    "version": 3
   },
   "file_extension": ".py",
   "mimetype": "text/x-python",
   "name": "python",
   "nbconvert_exporter": "python",
   "pygments_lexer": "ipython3",
   "version": "3.8.5"
  }
 },
 "nbformat": 4,
 "nbformat_minor": 5
}
