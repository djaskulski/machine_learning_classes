{
 "cells": [
  {
   "cell_type": "markdown",
   "id": "b743d199-8ef7-4e79-85c0-4e2a7de71c53",
   "metadata": {},
   "source": [
    "1. Zaimplementuj cross validation przez:\n",
    "\n",
    "    podzielenie datasetu używając Kfold lub np.split\n",
    "    użycie for loop aby wyznaczyć score dla poszczególnych foldów\n",
    "    wyznaczenie score dla całego datasetu\n",
    "\n",
    "2. Skorzystaj z  cros_val_score dla:\n",
    "\n",
    "    cv=3, cv=5, cv=10\n",
    "    porównaj czas wykonania cv z pkt powyżej (skorzystaj np z magic commands)\n",
    "\n",
    "3. Porównaj wyniki (metryki) z pkt 1, 2 wraz z wynikami z zadania 02.\n",
    "\n",
    "Rozwiązanie prześlij jako printscreen.\n",
    "\n",
    "Nazwa pliku (bez polskich znaków):\n",
    "\n",
    "Nazwisko_Imie_03_niestacj.jpg"
   ]
  },
  {
   "cell_type": "code",
   "execution_count": null,
   "id": "cff1d0b6-a000-4f94-9b72-2fbd1e8ac79d",
   "metadata": {},
   "outputs": [],
   "source": []
  }
 ],
 "metadata": {
  "kernelspec": {
   "display_name": "Python [conda env:cdv_data_prep] *",
   "language": "python",
   "name": "conda-env-cdv_data_prep-py"
  },
  "language_info": {
   "codemirror_mode": {
    "name": "ipython",
    "version": 3
   },
   "file_extension": ".py",
   "mimetype": "text/x-python",
   "name": "python",
   "nbconvert_exporter": "python",
   "pygments_lexer": "ipython3",
   "version": "3.8.5"
  }
 },
 "nbformat": 4,
 "nbformat_minor": 5
}
