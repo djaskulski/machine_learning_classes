{
 "cells": [
  {
   "cell_type": "markdown",
   "id": "b743d199-8ef7-4e79-85c0-4e2a7de71c53",
   "metadata": {},
   "source": [
    "1. Zaimplementuj cross validation przez:\n",
    "\n",
    "    podzielenie datasetu używając Kfold lub np.split,\n",
    "    użycie for loop aby wyznaczyć score dla poszczególnych foldów,\n",
    "    wyznaczenie score dla całego datasetu\n",
    "\n",
    "2. Skorzystaj z cross_val_score dla:\n",
    "\n",
    "    cv=3, cv=5, cv=10,\n",
    "    porównaj czas wykonania cv z pkt powyżej (skorzystaj np z magic commands)\n",
    "\n",
    "3. Porównaj wyniki (metryki) z pkt 1, 2 wraz z wynikami z zadania 02.\n",
    "\n",
    "Rozwiązanie prześlij jako printscreen.\n",
    "\n",
    "Nazwa pliku (bez polskich znaków):\n",
    "\n",
    "Nazwisko_Imie_03_niestacj.jpg"
   ]
  },
  {
   "cell_type": "code",
   "execution_count": 227,
   "id": "cff1d0b6-a000-4f94-9b72-2fbd1e8ac79d",
   "metadata": {},
   "outputs": [],
   "source": [
    "import numpy as np\n",
    "import pandas as pd\n",
    "import seaborn as sns\n",
    "import matplotlib.pyplot as plt\n",
    "from sklearn.datasets import load_diabetes\n",
    "from sklearn.model_selection import KFold, cross_val_score\n",
    "from sklearn.linear_model import LassoCV, Lasso"
   ]
  },
  {
   "cell_type": "code",
   "execution_count": 228,
   "id": "a23fb70e-929b-4b4a-94aa-2d654e648847",
   "metadata": {},
   "outputs": [
    {
     "data": {
      "text/plain": [
       "['DESCR',\n",
       " 'data',\n",
       " 'data_filename',\n",
       " 'feature_names',\n",
       " 'frame',\n",
       " 'target',\n",
       " 'target_filename']"
      ]
     },
     "execution_count": 228,
     "metadata": {},
     "output_type": "execute_result"
    }
   ],
   "source": [
    "# load and return the diabetes dataset (regression).\n",
    "diabetes = load_diabetes()\n",
    "dir(diabetes)"
   ]
  },
  {
   "cell_type": "code",
   "execution_count": 229,
   "id": "8e682e44-d8d2-4e3a-99a9-65f789ca8c99",
   "metadata": {},
   "outputs": [],
   "source": [
    "# data, target assignments\n",
    "X, y = diabetes.data, diabetes.target"
   ]
  },
  {
   "cell_type": "markdown",
   "id": "e18e5616-51cf-4e15-b237-d91f0a0dfe58",
   "metadata": {},
   "source": [
    "# 1"
   ]
  },
  {
   "cell_type": "code",
   "execution_count": 230,
   "id": "535f375e-e37b-4645-83c4-aec4ba2c5607",
   "metadata": {},
   "outputs": [],
   "source": [
    "# kfold instance\n",
    "kf = KFold(n_splits = 3, shuffle = True, random_state = 1)"
   ]
  },
  {
   "cell_type": "code",
   "execution_count": 231,
   "id": "e0d8a438-c7ac-499f-ac9c-3b3a2087bd97",
   "metadata": {},
   "outputs": [
    {
     "name": "stdout",
     "output_type": "stream",
     "text": [
      "TRAIN: [  0   1   2   3   7   8   9  10  12  14  15  16  19  20  21  22  24  25\n",
      "  26  28  30  32  33  34  35  36  37  38  42  43  44  45  48  49  50  51\n",
      "  52  53  54  55  56  57  59  60  63  64  68  70  71  72  74  75  76  77\n",
      "  79  83  84  86  87  88  91  94  96  97  99 100 103 104 105 108 109 110\n",
      " 111 112 113 114 115 116 118 120 121 123 124 125 126 129 130 131 133 134\n",
      " 135 136 137 138 140 141 142 143 144 145 147 148 149 150 151 152 153 154\n",
      " 155 156 157 158 160 161 163 166 167 169 170 172 175 176 177 178 181 182\n",
      " 183 184 187 188 190 193 194 195 196 198 199 200 201 202 203 204 205 209\n",
      " 210 211 212 215 216 217 219 220 222 223 225 226 227 229 231 234 235 236\n",
      " 237 238 239 240 241 243 244 245 247 248 250 252 253 254 255 259 261 262\n",
      " 263 264 265 266 268 269 270 272 274 276 278 279 280 281 282 287 288 291\n",
      " 295 296 297 298 300 301 302 303 305 306 308 309 312 313 316 317 319 321\n",
      " 322 323 325 329 330 333 334 335 336 337 341 342 343 344 345 346 348 349\n",
      " 350 352 354 355 356 357 358 360 361 362 363 365 366 367 368 371 372 374\n",
      " 376 378 379 382 384 386 387 388 390 392 393 394 395 396 397 398 401 402\n",
      " 404 405 406 407 409 410 411 412 413 415 416 417 418 419 423 426 427 428\n",
      " 430 432 434 435 436 441] \n",
      "TEST: [  4   5   6  11  13  17  18  23  27  29  31  39  40  41  46  47  58  61\n",
      "  62  65  66  67  69  73  78  80  81  82  85  89  90  92  93  95  98 101\n",
      " 102 106 107 117 119 122 127 128 132 139 146 159 162 164 165 168 171 173\n",
      " 174 179 180 185 186 189 191 192 197 206 207 208 213 214 218 221 224 228\n",
      " 230 232 233 242 246 249 251 256 257 258 260 267 271 273 275 277 283 284\n",
      " 285 286 289 290 292 293 294 299 304 307 310 311 314 315 318 320 324 326\n",
      " 327 328 331 332 338 339 340 347 351 353 359 364 369 370 373 375 377 380\n",
      " 381 383 385 389 391 399 400 403 408 414 420 421 422 424 425 429 431 433\n",
      " 437 438 439 440]\n",
      "TRAIN: [  1   2   3   4   5   6   7  10  11  13  15  17  18  20  22  23  25  26\n",
      "  27  29  30  31  36  37  39  40  41  43  46  47  49  50  52  54  57  58\n",
      "  60  61  62  64  65  66  67  68  69  71  72  73  74  75  76  77  78  80\n",
      "  81  82  83  85  86  87  89  90  92  93  94  95  96  98 101 102 103 104\n",
      " 106 107 109 114 115 117 118 119 121 122 126 127 128 129 130 132 133 136\n",
      " 139 140 141 143 144 146 148 149 151 152 153 155 156 159 162 164 165 166\n",
      " 168 170 171 173 174 176 178 179 180 182 183 185 186 189 190 191 192 193\n",
      " 194 195 196 197 198 200 202 203 206 207 208 209 210 213 214 215 216 218\n",
      " 220 221 224 226 228 230 232 233 235 237 239 240 241 242 243 246 249 251\n",
      " 252 253 254 255 256 257 258 259 260 262 263 264 265 266 267 269 271 273\n",
      " 275 276 277 278 279 280 281 282 283 284 285 286 288 289 290 292 293 294\n",
      " 297 299 301 302 304 307 308 310 311 313 314 315 316 317 318 319 320 321\n",
      " 324 326 327 328 329 331 332 333 334 335 336 338 339 340 347 348 351 352\n",
      " 353 356 357 358 359 364 366 367 369 370 371 373 375 377 379 380 381 383\n",
      " 384 385 386 387 389 390 391 392 393 394 395 396 398 399 400 402 403 404\n",
      " 405 406 408 410 413 414 417 420 421 422 423 424 425 427 428 429 430 431\n",
      " 433 435 436 437 438 439 440] \n",
      "TEST: [  0   8   9  12  14  16  19  21  24  28  32  33  34  35  38  42  44  45\n",
      "  48  51  53  55  56  59  63  70  79  84  88  91  97  99 100 105 108 110\n",
      " 111 112 113 116 120 123 124 125 131 134 135 137 138 142 145 147 150 154\n",
      " 157 158 160 161 163 167 169 172 175 177 181 184 187 188 199 201 204 205\n",
      " 211 212 217 219 222 223 225 227 229 231 234 236 238 244 245 247 248 250\n",
      " 261 268 270 272 274 287 291 295 296 298 300 303 305 306 309 312 322 323\n",
      " 325 330 337 341 342 343 344 345 346 349 350 354 355 360 361 362 363 365\n",
      " 368 372 374 376 378 382 388 397 401 407 409 411 412 415 416 418 419 426\n",
      " 432 434 441]\n",
      "TRAIN: [  0   4   5   6   8   9  11  12  13  14  16  17  18  19  21  23  24  27\n",
      "  28  29  31  32  33  34  35  38  39  40  41  42  44  45  46  47  48  51\n",
      "  53  55  56  58  59  61  62  63  65  66  67  69  70  73  78  79  80  81\n",
      "  82  84  85  88  89  90  91  92  93  95  97  98  99 100 101 102 105 106\n",
      " 107 108 110 111 112 113 116 117 119 120 122 123 124 125 127 128 131 132\n",
      " 134 135 137 138 139 142 145 146 147 150 154 157 158 159 160 161 162 163\n",
      " 164 165 167 168 169 171 172 173 174 175 177 179 180 181 184 185 186 187\n",
      " 188 189 191 192 197 199 201 204 205 206 207 208 211 212 213 214 217 218\n",
      " 219 221 222 223 224 225 227 228 229 230 231 232 233 234 236 238 242 244\n",
      " 245 246 247 248 249 250 251 256 257 258 260 261 267 268 270 271 272 273\n",
      " 274 275 277 283 284 285 286 287 289 290 291 292 293 294 295 296 298 299\n",
      " 300 303 304 305 306 307 309 310 311 312 314 315 318 320 322 323 324 325\n",
      " 326 327 328 330 331 332 337 338 339 340 341 342 343 344 345 346 347 349\n",
      " 350 351 353 354 355 359 360 361 362 363 364 365 368 369 370 372 373 374\n",
      " 375 376 377 378 380 381 382 383 385 388 389 391 397 399 400 401 403 407\n",
      " 408 409 411 412 414 415 416 418 419 420 421 422 424 425 426 429 431 432\n",
      " 433 434 437 438 439 440 441] \n",
      "TEST: [  1   2   3   7  10  15  20  22  25  26  30  36  37  43  49  50  52  54\n",
      "  57  60  64  68  71  72  74  75  76  77  83  86  87  94  96 103 104 109\n",
      " 114 115 118 121 126 129 130 133 136 140 141 143 144 148 149 151 152 153\n",
      " 155 156 166 170 176 178 182 183 190 193 194 195 196 198 200 202 203 209\n",
      " 210 215 216 220 226 235 237 239 240 241 243 252 253 254 255 259 262 263\n",
      " 264 265 266 269 276 278 279 280 281 282 288 297 301 302 308 313 316 317\n",
      " 319 321 329 333 334 335 336 348 352 356 357 358 366 367 371 379 384 386\n",
      " 387 390 392 393 394 395 396 398 402 404 405 406 410 413 417 423 427 428\n",
      " 430 435 436]\n"
     ]
    }
   ],
   "source": [
    "# split daata with kfold\n",
    "for train_index, test_index in kf.split(X):\n",
    "    X_train, X_test = X[train_index], X[test_index]\n",
    "    y_train, y_test = y[train_index], y[test_index]\n",
    "    \n",
    "    print(\"TRAIN:\", train_index, \"\\n\" \"TEST:\", test_index)"
   ]
  },
  {
   "cell_type": "code",
   "execution_count": 232,
   "id": "193a5353-3058-4411-af35-8dd41abbbe7b",
   "metadata": {},
   "outputs": [],
   "source": [
    "# score for every fold\n",
    "def score_by_fold():\n",
    "    # lasso instance and parameters\n",
    "    alphas = np.logspace(-4, -0.5, 30)\n",
    "    lasso_cv = LassoCV(alphas=alphas, random_state=0, max_iter=10000)\n",
    "    k_fold = KFold(10)\n",
    "    \n",
    "    for k, (train, test) in enumerate(k_fold.split(X, y)):\n",
    "        lasso_cv.fit(X[train], y[train])\n",
    "        print(\"[fold {0}] alpha: {1:.5f}, score: {2:.5f}\".\n",
    "              format(k, lasso_cv.alpha_, lasso_cv.score(X[test], y[test])))"
   ]
  },
  {
   "cell_type": "code",
   "execution_count": 233,
   "id": "f015cf91-7e77-4fd5-8d7d-8e31471d02eb",
   "metadata": {},
   "outputs": [
    {
     "name": "stdout",
     "output_type": "stream",
     "text": [
      "[fold 0] alpha: 0.07880, score: 0.52304\n",
      "[fold 1] alpha: 0.05968, score: 0.24482\n",
      "[fold 2] alpha: 0.00010, score: 0.35382\n",
      "[fold 3] alpha: 0.04520, score: 0.60507\n",
      "[fold 4] alpha: 0.05968, score: 0.27437\n",
      "[fold 5] alpha: 0.00371, score: 0.62182\n",
      "[fold 6] alpha: 0.00010, score: 0.41831\n",
      "[fold 7] alpha: 0.03424, score: 0.43149\n",
      "[fold 8] alpha: 0.04520, score: 0.42585\n",
      "[fold 9] alpha: 0.00853, score: 0.68270\n",
      "Wall time: 711 ms\n"
     ]
    }
   ],
   "source": [
    "%time score_by_fold()"
   ]
  },
  {
   "cell_type": "code",
   "execution_count": 234,
   "id": "a820549a-53e1-4420-a751-0aa3da5d0cec",
   "metadata": {},
   "outputs": [],
   "source": [
    "# whole dataset score\n",
    "def whole_score():\n",
    "    return lasso_cv.score(X[test], y[test])"
   ]
  },
  {
   "cell_type": "code",
   "execution_count": 235,
   "id": "f1a15a62-cf1b-43b6-a298-47a4c7437aa5",
   "metadata": {},
   "outputs": [
    {
     "name": "stdout",
     "output_type": "stream",
     "text": [
      "Wall time: 0 ns\n"
     ]
    },
    {
     "data": {
      "text/plain": [
       "0.6827010716027995"
      ]
     },
     "execution_count": 235,
     "metadata": {},
     "output_type": "execute_result"
    }
   ],
   "source": [
    "%time whole_score()"
   ]
  },
  {
   "cell_type": "markdown",
   "id": "5129c34e-7166-4ca1-a815-f0c094c08c00",
   "metadata": {},
   "source": [
    "# 2"
   ]
  },
  {
   "cell_type": "code",
   "execution_count": 236,
   "id": "fb56a5c4-ef75-4ca1-80ac-f0540d848610",
   "metadata": {},
   "outputs": [],
   "source": [
    "def my_cross_val():\n",
    "    list = [3, 5, 10]\n",
    "    lasso = Lasso()\n",
    "\n",
    "    for n in list:\n",
    "        print(cross_val_score(lasso, X, y, cv=n))\n",
    "        print(\"Max: \", max(cross_val_score(lasso, X, y, cv=n)), \"\\n\")"
   ]
  },
  {
   "cell_type": "code",
   "execution_count": 237,
   "id": "b8344d61-29ac-4959-81e9-6de30925b912",
   "metadata": {},
   "outputs": [
    {
     "name": "stdout",
     "output_type": "stream",
     "text": [
      "[0.34542985 0.34712314 0.36884726]\n",
      "Max:  0.36884725706191346 \n",
      "\n",
      "[0.28349047 0.35157959 0.3533813  0.33481474 0.36453281]\n",
      "Max:  0.36453281428665396 \n",
      "\n",
      "[0.37566102 0.10727689 0.30374655 0.38050755 0.22515853 0.41506179\n",
      " 0.30380439 0.34876534 0.32262628 0.42874276]\n",
      "Max:  0.4287427630907267 \n",
      "\n",
      "Wall time: 123 ms\n"
     ]
    }
   ],
   "source": [
    "%time my_cross_val()"
   ]
  },
  {
   "cell_type": "markdown",
   "id": "46ce3ade-e01d-4868-aa32-2a3390a719b1",
   "metadata": {},
   "source": [
    "# 3"
   ]
  },
  {
   "cell_type": "code",
   "execution_count": 238,
   "id": "ec039744-f218-4c11-b251-e5cb26726450",
   "metadata": {},
   "outputs": [],
   "source": [
    "r2_score_dict = {\n",
    "    # scores from 02_linear_regr\n",
    "    \"dummy regression\": 0.0,\n",
    "    \"linear regression\": 0.4033025232246107,\n",
    "    \"ridge\": 0.4027277632830567,\n",
    "    \"lasoo\": 0.40050373260020367,\n",
    "    \"ridgeCV\": 0.4045745545779539,\n",
    "    \"lassoCV\": 0.40050373260020367,\n",
    "    # scores from 03_cross_valid\n",
    "    \"lasso_cv_kfold_10\": 0.6827010716027995,\n",
    "    \"lasso_cross_val_10\": 0.4287427630907267\n",
    "}"
   ]
  },
  {
   "cell_type": "code",
   "execution_count": 239,
   "id": "940cf658-40dc-4705-b910-8e70fed1b630",
   "metadata": {},
   "outputs": [
    {
     "data": {
      "text/html": [
       "<div>\n",
       "<style scoped>\n",
       "    .dataframe tbody tr th:only-of-type {\n",
       "        vertical-align: middle;\n",
       "    }\n",
       "\n",
       "    .dataframe tbody tr th {\n",
       "        vertical-align: top;\n",
       "    }\n",
       "\n",
       "    .dataframe thead th {\n",
       "        text-align: right;\n",
       "    }\n",
       "</style>\n",
       "<table border=\"1\" class=\"dataframe\">\n",
       "  <thead>\n",
       "    <tr style=\"text-align: right;\">\n",
       "      <th></th>\n",
       "      <th>value</th>\n",
       "    </tr>\n",
       "  </thead>\n",
       "  <tbody>\n",
       "    <tr>\n",
       "      <th>dummy regression</th>\n",
       "      <td>0.000000</td>\n",
       "    </tr>\n",
       "    <tr>\n",
       "      <th>lasoo</th>\n",
       "      <td>0.400504</td>\n",
       "    </tr>\n",
       "    <tr>\n",
       "      <th>lassoCV</th>\n",
       "      <td>0.400504</td>\n",
       "    </tr>\n",
       "    <tr>\n",
       "      <th>ridge</th>\n",
       "      <td>0.402728</td>\n",
       "    </tr>\n",
       "    <tr>\n",
       "      <th>linear regression</th>\n",
       "      <td>0.403303</td>\n",
       "    </tr>\n",
       "    <tr>\n",
       "      <th>ridgeCV</th>\n",
       "      <td>0.404575</td>\n",
       "    </tr>\n",
       "    <tr>\n",
       "      <th>lasso_cross_val_10</th>\n",
       "      <td>0.428743</td>\n",
       "    </tr>\n",
       "    <tr>\n",
       "      <th>lasso_cv_kfold_10</th>\n",
       "      <td>0.682701</td>\n",
       "    </tr>\n",
       "  </tbody>\n",
       "</table>\n",
       "</div>"
      ],
      "text/plain": [
       "                       value\n",
       "dummy regression    0.000000\n",
       "lasoo               0.400504\n",
       "lassoCV             0.400504\n",
       "ridge               0.402728\n",
       "linear regression   0.403303\n",
       "ridgeCV             0.404575\n",
       "lasso_cross_val_10  0.428743\n",
       "lasso_cv_kfold_10   0.682701"
      ]
     },
     "execution_count": 239,
     "metadata": {},
     "output_type": "execute_result"
    }
   ],
   "source": [
    "r2_df = pd.DataFrame.from_dict(r2_score_dict, orient='index', columns=[\"value\"])\n",
    "sorted_r2_df = r2_df.sort_values(by=[\"value\"])\n",
    "sorted_r2_df"
   ]
  },
  {
   "cell_type": "code",
   "execution_count": 240,
   "id": "108aca02-5a42-4f8e-be65-ab6630b8cc53",
   "metadata": {},
   "outputs": [
    {
     "data": {
      "image/png": "[encoded data removed]",
      "text/plain": [
       "<Figure size 720x360 with 1 Axes>"
      ]
     },
     "metadata": {
      "needs_background": "light"
     },
     "output_type": "display_data"
    }
   ],
   "source": [
    "plt.figure(figsize=(10,5))\n",
    "sns.barplot(x=r2_df.index, y=r2_df.value)\n",
    "plt.ylim(0.3, 0.7)\n",
    "plt.xticks(rotation=45)\n",
    "plt.title(\"R2 scores for regression models\")\n",
    "plt.grid()"
   ]
  }
 ],
 "metadata": {
  "kernelspec": {
   "display_name": "Python [conda env:cdv_data_prep] *",
   "language": "python",
   "name": "conda-env-cdv_data_prep-py"
  },
  "language_info": {
   "codemirror_mode": {
    "name": "ipython",
    "version": 3
   },
   "file_extension": ".py",
   "mimetype": "text/x-python",
   "name": "python",
   "nbconvert_exporter": "python",
   "pygments_lexer": "ipython3",
   "version": "3.8.5"
  }
 },
 "nbformat": 4,
 "nbformat_minor": 5
}
