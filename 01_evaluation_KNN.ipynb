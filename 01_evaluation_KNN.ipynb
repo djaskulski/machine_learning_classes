{
 "cells": [
  {
   "cell_type": "markdown",
   "id": "e88f12ca-87fd-4b0b-8d55-3397162ca556",
   "metadata": {},
   "source": [
    "1. Utwórz DummyClassifier dla zbioru danych wine. \n",
    "\n",
    "        Podziel dane używając train_test_split\n",
    "        Oblicz accuracy (score)\n",
    "\n",
    "2. Zapisz model i wczytaj go używając joblib \n",
    "\n",
    "3. Utwórz KNNClassifier (wszystko jak w pkt.1). \n",
    "\n",
    "Dodatkowo używając for loop dla n_neighbors od 1 do 10:\n",
    "\n",
    "        utwórz 2 krzywe dla zbioru testowego oraz treningowego (score vs n_neighbours)\n",
    "        sprawdź w jaki sposób wpływa standaryzacja na wyniki\n",
    "\n",
    "4. Porównaj wyniki pkt 1 vs 3\n",
    "\n",
    "Rozwiązanie prześlij jako printscreen.\n",
    "\n",
    "Nazwa pliku (bez polskich znaków):\n",
    "\n",
    "Nazwisko_Imie_01_niestacj.jpg"
   ]
  },
  {
   "cell_type": "code",
   "execution_count": 2,
   "id": "72a653b6-99d7-4d06-90ce-6f924687a6dd",
   "metadata": {},
   "outputs": [],
   "source": [
    "from sklearn.datasets import load_wine\n",
    "from sklearn.model_selection import train_test_split\n",
    "from sklearn.dummy import DummyClassifier\n",
    "from sklearn.metrics import accuracy_score\n",
    "from sklearn.neighbors import KNeighborsClassifier\n",
    "from sklearn.preprocessing import StandardScaler\n",
    "import seaborn as sns\n",
    "import matplotlib.pyplot as plt\n",
    "import joblib"
   ]
  },
  {
   "cell_type": "markdown",
   "id": "b9719e3f-151a-46c0-8af4-41363511945e",
   "metadata": {},
   "source": [
    "## 1"
   ]
  },
  {
   "cell_type": "code",
   "execution_count": 3,
   "id": "f8d91de9-4d3d-4d5e-a734-abdb1d95242d",
   "metadata": {},
   "outputs": [],
   "source": [
    "# load_wine\n",
    "wine = load_wine()\n",
    "features, target = wine.data, wine.target\n",
    "X, y = wine.data, wine.target"
   ]
  },
  {
   "cell_type": "code",
   "execution_count": 4,
   "id": "d9f7b796-0206-4c87-a523-3a86669175e4",
   "metadata": {},
   "outputs": [],
   "source": [
    "# train_test split\n",
    "X_train, X_test, y_train, y_test = train_test_split(X, y, test_size=0.33, random_state=0)"
   ]
  },
  {
   "cell_type": "code",
   "execution_count": 5,
   "id": "9108f10c-dd88-4570-9f6d-1e49f132706b",
   "metadata": {},
   "outputs": [],
   "source": [
    "# defining model\n",
    "model = DummyClassifier()\n",
    "model.fit(X_train, y_train)\n",
    "preds= model.predict(X_test)"
   ]
  },
  {
   "cell_type": "code",
   "execution_count": 6,
   "id": "b1126fe2-1c69-4f20-be79-0db975417b8a",
   "metadata": {},
   "outputs": [
    {
     "name": "stdout",
     "output_type": "stream",
     "text": [
      "0.4067796610169492\n"
     ]
    }
   ],
   "source": [
    "# accuracy_score\n",
    "print(accuracy_score(y_test, preds))"
   ]
  },
  {
   "cell_type": "markdown",
   "id": "f5bb2f41-11fc-48f1-aea1-02cd9f4a3fbe",
   "metadata": {},
   "source": [
    "## 2"
   ]
  },
  {
   "cell_type": "code",
   "execution_count": 7,
   "id": "921b4f1d-080d-477f-9017-fa83c090d7dc",
   "metadata": {},
   "outputs": [
    {
     "data": {
      "text/plain": [
       "['basic_model.sav']"
      ]
     },
     "execution_count": 7,
     "metadata": {},
     "output_type": "execute_result"
    }
   ],
   "source": [
    "# save the model to disk\n",
    "filename = 'basic_model.sav'\n",
    "joblib.dump(model, filename)"
   ]
  },
  {
   "cell_type": "code",
   "execution_count": 8,
   "id": "396f296d-f6c9-4fad-99cc-3832a711c651",
   "metadata": {},
   "outputs": [
    {
     "name": "stdout",
     "output_type": "stream",
     "text": [
      "0.4067796610169492\n"
     ]
    }
   ],
   "source": [
    "# some time later...\n",
    " \n",
    "# load the model from disk\n",
    "loaded_model = joblib.load(filename)\n",
    "result = loaded_model.score(X_test, y_test)\n",
    "print(result)"
   ]
  },
  {
   "cell_type": "markdown",
   "id": "ee857fb8-71f5-405e-bae9-183f7a584519",
   "metadata": {},
   "source": [
    "## 3"
   ]
  },
  {
   "cell_type": "code",
   "execution_count": 9,
   "id": "aa577199-a2df-40c0-8b74-0f67b2a0b934",
   "metadata": {},
   "outputs": [],
   "source": [
    "scaler = StandardScaler().fit(X_train)\n",
    "X_train_std = scaler.transform(X_train)\n",
    "X_test_std = scaler.transform(X_test)"
   ]
  },
  {
   "cell_type": "code",
   "execution_count": 10,
   "id": "48d76f4a-82b8-46fc-9ca6-5910bede8cd9",
   "metadata": {},
   "outputs": [],
   "source": [
    "n_neighbors = list(range(1, 11))\n",
    "test_score = []\n",
    "train_score = []"
   ]
  },
  {
   "cell_type": "code",
   "execution_count": 12,
   "id": "295e9a9d-453c-4de5-949b-d9d5f882dfee",
   "metadata": {},
   "outputs": [],
   "source": [
    "# defining model\n",
    "for i in n_neighbors:\n",
    "    model = KNeighborsClassifier(n_neighbors=i)\n",
    "    model.fit(X_train_std, y_train)\n",
    "    #preds= model.predict(X_test_std)\n",
    "    \n",
    "    train_score.append(round(model.score(X=X_train_std, y=y_train), 3))\n",
    "    test_score.append(round(model.score(X=X_test_std, y=y_test), 3))"
   ]
  },
  {
   "cell_type": "code",
   "execution_count": 17,
   "id": "4faabc3c-2788-45f6-af88-574d12102a00",
   "metadata": {},
   "outputs": [
    {
     "data": {
      "image/png": "[encoded data removed]",
      "text/plain": [
       "<Figure size 720x360 with 1 Axes>"
      ]
     },
     "metadata": {
      "needs_background": "light"
     },
     "output_type": "display_data"
    }
   ],
   "source": [
    "plt.figure(figsize=(10,5))\n",
    "sns.lineplot(x=n_neighbors, y=train_score, label=\"Train data\")\n",
    "sns.lineplot(x=n_neighbors, y=test_score, label=\"Test data\")\n",
    "plt.title(\"Number of neighbors and score\")\n",
    "plt.legend()\n",
    "plt.grid();"
   ]
  },
  {
   "cell_type": "code",
   "execution_count": null,
   "id": "ee18ca60-ee8d-44e0-97e9-7378326ff5a4",
   "metadata": {},
   "outputs": [],
   "source": []
  }
 ],
 "metadata": {
  "kernelspec": {
   "display_name": "Python [conda env:cdv_data_prep] *",
   "language": "python",
   "name": "conda-env-cdv_data_prep-py"
  },
  "language_info": {
   "codemirror_mode": {
    "name": "ipython",
    "version": 3
   },
   "file_extension": ".py",
   "mimetype": "text/x-python",
   "name": "python",
   "nbconvert_exporter": "python",
   "pygments_lexer": "ipython3",
   "version": "3.8.5"
  }
 },
 "nbformat": 4,
 "nbformat_minor": 5
}
